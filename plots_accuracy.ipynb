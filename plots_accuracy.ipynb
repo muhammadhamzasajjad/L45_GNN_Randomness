{
  "nbformat": 4,
  "nbformat_minor": 0,
  "metadata": {
    "colab": {
      "provenance": []
    },
    "kernelspec": {
      "name": "python3",
      "display_name": "Python 3"
    },
    "language_info": {
      "name": "python"
    },
    "gpuClass": "standard"
  },
  "cells": [
    {
      "cell_type": "code",
      "execution_count": 1,
      "metadata": {
        "colab": {
          "base_uri": "https://localhost:8080/",
          "height": 304
        },
        "id": "YA_xlE_-PA3G",
        "outputId": "4970cc4c-4cea-4794-dc2f-899ddcf2a6ba"
      },
      "outputs": [
        {
          "output_type": "stream",
          "name": "stdout",
          "text": [
            "[84.49, 92.95, 54.01] [83.2, 89.32, 53.8]\n",
            "[1.289999999999992, 3.6300000000000097, 0.21000000000000085]\n"
          ]
        },
        {
          "output_type": "display_data",
          "data": {
            "text/plain": [
              "<Figure size 432x288 with 1 Axes>"
            ],
            "image/png": "[encoded data removed]"
          },
          "metadata": {
            "needs_background": "light"
          }
        }
      ],
      "source": [
        "\n",
        "# importing package\n",
        "import matplotlib.pyplot as plt\n",
        "import numpy as np\n",
        "\n",
        "def diff(a, b):\n",
        "  return [a_i - b_i for a_i, b_i in zip(a, b)]\n",
        "  \n",
        "# create data\n",
        "x = np.arange(3)\n",
        "gat_y1 = [84.49, 92.95, 54.01]  # GAT\n",
        "gs_y2 = [83.30, 93.99, 54.54]   # GraphSAGE\n",
        "gin_y3 = [84.77, 88.74, 42.20]  # GIN\n",
        "n2v_y4 = [63.52, 87.24, 0]      # Node2Vec\n",
        "frp_y5 = [69.05, 72.68, 0]      # FastRP\n",
        "\n",
        "gat_y1_max = [85.30, 94.01, 54.16]  # GAT\n",
        "gs_y2_max =  [83.70, 94.61, 55.12]  # GraphSAGE\n",
        "gin_y3_max = [85.60, 90.09, 46.95]  # GIN\n",
        "n2v_y4_max = [65.9, 88.32, 0]       # Node2Vec\n",
        "frp_y5_max = [72.80, 74.43, 0]      # FastRP\n",
        "\n",
        "\n",
        "gat_y1_min = [83.20, 89.32, 53.80]  # GAT\n",
        "gs_y2_min =  [82.90, 93.03, 53.84]  # GraphSAGE\n",
        "gin_y3_min = [83.60, 87.09, 29.71]  # GIN\n",
        "n2v_y4_min = [61.40, 86.41, 0]       # Node2Vec\n",
        "frp_y5_min = [65.80, 70.72, 0]      # FastRP\n",
        "\n",
        "width = 0.15\n",
        "\n",
        "# plot data in grouped manner of bar type\n",
        "plt.bar(x-0.15*2, gat_y1, width)\n",
        "plt.bar(x-0.15, gs_y2, width)\n",
        "plt.bar(x, gin_y3, width )\n",
        "plt.bar(x+0.15, n2v_y4, width)\n",
        "plt.bar(x+0.15*2, frp_y5, width)\n",
        "\n",
        "print(gat_y1, gat_y1_min)\n",
        "print(diff(gat_y1,gat_y1_min))\n",
        "plt.errorbar(x-0.15*2, gat_y1, yerr=[diff(gat_y1,gat_y1_min),diff(gat_y1_max,gat_y1)],\tfmt='.', lw=2, capsize=5, capthick=2, ecolor=\"gray\")\n",
        "plt.errorbar(x-0.15, gs_y2, yerr=[diff(gs_y2,gs_y2_min),diff(gs_y2_max,gs_y2)],\tfmt='.', lw=2, capsize=5, capthick=2, ecolor=\"gray\")\n",
        "plt.errorbar(x, gin_y3, yerr=[diff(gin_y3,gin_y3_min),diff(gin_y3_max,gin_y3)],\tfmt='.', lw=2, capsize=5, capthick=2, ecolor=\"gray\")\n",
        "plt.errorbar(x+0.15, n2v_y4, yerr=[diff(n2v_y4,n2v_y4_min),diff(n2v_y4_max,n2v_y4)],\tfmt='.', lw=2, capsize=5, capthick=2, ecolor=\"gray\")\n",
        "plt.errorbar(x+0.15*2, frp_y5, yerr=[diff(frp_y5,frp_y5_min),diff(frp_y5_max,frp_y5)],\tfmt='.', lw=2, capsize=5, capthick=2, ecolor=\"gray\")\n",
        "\n",
        "plt.xticks(x, ['Cora', 'Coauthor', 'Arxiv'])\n",
        "#plt.xlabel(\"Dataset\")\n",
        "plt.ylabel(\"Accuracy(%)\")\n",
        "plt.legend([\"GAT\", \"GraphSAGE\", \"GIN\", \"Node2Vec\", \"FastRP\"])\n",
        "ax = plt.gca()\n",
        "ax.set_ylim([25, 100])\n",
        "\n",
        "plt.show()"
      ]
    },
    {
      "cell_type": "code",
      "source": [
        "\n",
        "# importing package\n",
        "import matplotlib\n",
        "import matplotlib.pyplot as plt\n",
        "import numpy as np\n",
        "\n",
        "def diff(a, b):\n",
        "  return [a_i - b_i for a_i, b_i in zip(a, b)]\n",
        "\n",
        "\n",
        "'''\n",
        "mean [(81.2, 83.96, 81.3, 41.67, 67.08), (78.61, 80.99, 77.11, 60.66, 73.3), (83.59, 86.47, 82.75, 60.71, 66.08), (73.23, 71.46, 74.26, 55.44, 63.44),\n",
        " (89.72, 87.82, 89.88, 85.58, 88.12), (83.87, 84.38, 85.53, 56.85, 65.79), (89.63, 85.08, 89.92, 66.08, 64.4)]\n",
        "\n",
        "max [(84.38, 85.94, 85.94, 51.56, 76.56), (84.62, 82.42, 81.32, 68.13, 76.92), (88.35, 87.38, 86.41, 69.9, 77.67), (75.38, 75.38, 79.23, 61.54, 70.0),\n",
        " (91.67, 88.89, 92.36, 88.89, 90.28), (86.58, 87.25, 87.92, 67.11, 78.52), (91.22, 85.89, 91.85, 70.53, 68.34)]\n",
        "\n",
        "min [(78.12, 82.81, 70.31, 31.25, 59.38), (72.53, 78.02, 73.63, 53.85, 70.33), (81.55, 83.5, 79.61, 49.51, 53.4), (68.46, 69.23, 70.0, 49.23, 56.15),\n",
        " (87.5, 86.81, 86.11, 81.25, 86.81), (81.21, 82.55, 81.21, 49.66, 53.69), (87.77, 84.33, 87.15, 60.82, 54.23)]\n",
        "\n",
        "'''\n",
        "\n",
        "# create data\n",
        "x = np.arange(3)\n",
        "\n",
        "class1_y = [32.67, 21.42, 6.24]\n",
        "class2_y = [23.6, 23.41, 3.29]\n",
        "class3_y = [0.0, 0.0, 0.0]\n",
        "class4_y = [25.92, 20.0, 0.23]\n",
        "class5_y = [47.76, 41.26, 50.18]\n",
        "class6_y = [43.36, 38.62, 27.11]\n",
        "class7_y = [38.07, 36.49, 0.02]\n",
        "\n",
        "class1_max_y = [34.78, 24.06, 11.59]\n",
        "class2_max_y = [24.76, 28.14, 10.45]\n",
        "class3_max_y = [0.0, 0.0, 0.0]\n",
        "class4_max_y = [29.58, 28.17, 2.82]\n",
        "class5_max_y = [48.98, 45.98, 57.3]\n",
        "class6_max_y = [44.38, 42.86, 38.68]\n",
        "class7_max_y = [39.49, 41.56, 0.32]\n",
        "\n",
        "class1_min_y = [29.57, 18.55, 0.0]\n",
        "class2_min_y = [22.03, 18.01, 0.0]\n",
        "class3_min_y = [0.0, 0.0, 0.0]\n",
        "class4_min_y = [21.13, 15.49, 0.0]\n",
        "class5_min_y = [46.79, 38.47, 29.33]\n",
        "class6_min_y = [42.3, 35.31, 6.82]\n",
        "class7_min_y = [36.62, 32.64, 0.0]\n",
        "\n",
        "\n",
        "width = 0.12\n",
        "\n",
        "plt.figure(figsize=(8,6)) #.set_figwidth(10)\n",
        "#plt.figure().set_figheight(7)\n",
        "\n",
        "font = {'weight' : 'normal',\n",
        "        'size'   : 10}\n",
        "\n",
        "matplotlib.rc('font', **font)\n",
        "\n",
        "\n",
        "# plot data in grouped manner of bar type\n",
        "plt.bar(x-0.12*3, class1_y, width)\n",
        "plt.bar(x-0.12*2, class2_y, width)\n",
        "plt.bar(x-0.12*1, class3_y, width)\n",
        "plt.bar(x-0.12*0, class4_y, width)\n",
        "plt.bar(x+0.12*1, class5_y, width)\n",
        "plt.bar(x+0.12*2, class6_y, width)\n",
        "plt.bar(x+0.12*3, class7_y, width)\n",
        "\n",
        "#print(gat_y1, gat_y1_min)\n",
        "#print(diff(gat_y1,gat_y1_min))\n",
        "\n",
        "plt.errorbar(x-0.12*3, class1_y, yerr=[diff(class1_y,class1_min_y),diff(class1_max_y,class1_y)],\tfmt='.', lw=2, capsize=5, capthick=2, ecolor=\"gray\")\n",
        "plt.errorbar(x-0.12*2, class2_y, yerr=[diff(class2_y,class2_min_y),diff(class2_max_y,class2_y)],\tfmt='.', lw=2, capsize=5, capthick=2, ecolor=\"gray\")\n",
        "plt.errorbar(x-0.12*1, class3_y, yerr=[diff(class3_y,class3_min_y),diff(class3_max_y,class3_y)],\tfmt='.', lw=2, capsize=5, capthick=2, ecolor=\"gray\")\n",
        "plt.errorbar(x-0.12*0, class4_y, yerr=[diff(class4_y,class4_min_y),diff(class4_max_y,class4_y)],\tfmt='.', lw=2, capsize=5, capthick=2, ecolor=\"gray\")\n",
        "plt.errorbar(x+0.12*1, class5_y, yerr=[diff(class5_y,class5_min_y),diff(class5_max_y,class5_y)],\tfmt='.', lw=2, capsize=5, capthick=2, ecolor=\"gray\")\n",
        "plt.errorbar(x+0.12*2, class6_y, yerr=[diff(class6_y,class6_min_y),diff(class6_max_y,class6_y)],\tfmt='.', lw=2, capsize=5, capthick=2, ecolor=\"gray\")\n",
        "plt.errorbar(x+0.12*3, class7_y, yerr=[diff(class7_y,class7_min_y),diff(class7_max_y,class7_y)],\tfmt='.', lw=2, capsize=5, capthick=2, ecolor=\"gray\")\n",
        "\n",
        "#plt.errorbar(x-0.15*2, gat_y1, yerr=[diff(gat_y1,gat_y1_min),diff(gat_y1_max,gat_y1)],\tfmt='.', lw=2, capsize=5, capthick=2, ecolor=\"gray\")\n",
        "#plt.errorbar(x-0.15, gs_y2, yerr=[diff(gs_y2,gs_y2_min),diff(gs_y2_max,gs_y2)],\tfmt='.', lw=2, capsize=5, capthick=2, ecolor=\"gray\")\n",
        "#plt.errorbar(x, gin_y3, yerr=[diff(gin_y3,gin_y3_min),diff(gin_y3_max,gin_y3)],\tfmt='.', lw=2, capsize=5, capthick=2, ecolor=\"gray\")\n",
        "#plt.errorbar(x+0.15, n2v_y4, yerr=[diff(n2v_y4,n2v_y4_min),diff(n2v_y4_max,n2v_y4)],\tfmt='.', lw=2, capsize=5, capthick=2, ecolor=\"gray\")\n",
        "#plt.errorbar(x+0.15*2, frp_y5, yerr=[diff(frp_y5,frp_y5_min),diff(frp_y5_max,frp_y5)],\tfmt='.', lw=2, capsize=5, capthick=2, ecolor=\"gray\")\n",
        "\n",
        "plt.xticks(x, ['GAT', 'GraphSAGE', 'GIN'])\n",
        "#plt.xlabel(\"Dataset\")\n",
        "plt.ylabel(\"Accuracy(%)\")\n",
        "plt.title(\"Mean per class accuracy on Arxiv\")\n",
        "plt.legend([\"class A\", \"class B\", \"class C\", \"class D\", \"class E\", \"class F\", \"class G\"], loc='upper center', bbox_to_anchor=(0.5, -0.05),\n",
        "          fancybox=True, shadow=True, ncol=5)\n",
        "ax = plt.gca()\n",
        "ax.set_ylim([0, 100])\n",
        "\n",
        "plt.show()"
      ],
      "metadata": {
        "colab": {
          "base_uri": "https://localhost:8080/",
          "height": 427
        },
        "id": "mQnFqFXLPGq9",
        "outputId": "a52f377d-0022-4541-a288-12e4a7dac9f0"
      },
      "execution_count": 2,
      "outputs": [
        {
          "output_type": "display_data",
          "data": {
            "text/plain": [
              "<Figure size 576x432 with 1 Axes>"
            ],
            "image/png": "[encoded data removed]"
          },
          "metadata": {
            "needs_background": "light"
          }
        }
      ]
    }
  ]
}