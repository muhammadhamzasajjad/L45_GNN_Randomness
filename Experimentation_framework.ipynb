{
  "nbformat": 4,
  "nbformat_minor": 0,
  "metadata": {
    "colab": {
      "provenance": [],
      "collapsed_sections": [
        "qU87TNON39IV",
        "NGtX2ycNQa-H"
      ]
    },
    "kernelspec": {
      "name": "python3",
      "display_name": "Python 3"
    },
    "language_info": {
      "name": "python"
    },
    "gpuClass": "standard",
    "accelerator": "GPU"
  },
  "cells": [
    {
      "cell_type": "markdown",
      "source": [
        "# **Preliminaries:** Install and import modules"
      ],
      "metadata": {
        "id": "qU87TNON39IV"
      }
    },
    {
      "cell_type": "code",
      "source": [
        "#@title [RUN] install\n",
        "!pip install networkx\n",
        "!pip install mycolorpy\n",
        "!pip install colorama\n",
        "\n",
        "\n",
        "import torch\n",
        "!pip install torch-geometric torch-scatter torch-sparse torch-cluster -f https://data.pyg.org/whl/torch-{torch.__version__}.html"
      ],
      "metadata": {
        "id": "Mpygj8TTZ-ur",
        "colab": {
          "base_uri": "https://localhost:8080/"
        },
        "outputId": "7c8b7a4d-26e3-49a4-c539-1709649edd13"
      },
      "execution_count": 1,
      "outputs": [
        {
          "output_type": "stream",
          "name": "stdout",
          "text": [
            "Looking in indexes: https://pypi.org/simple, https://us-python.pkg.dev/colab-wheels/public/simple/\n",
            "Requirement already satisfied: networkx in /usr/local/lib/python3.8/dist-packages (3.0)\n",
            "Looking in indexes: https://pypi.org/simple, https://us-python.pkg.dev/colab-wheels/public/simple/\n",
            "Requirement already satisfied: mycolorpy in /usr/local/lib/python3.8/dist-packages (1.5.1)\n",
            "Requirement already satisfied: numpy in /usr/local/lib/python3.8/dist-packages (from mycolorpy) (1.22.4)\n",
            "Requirement already satisfied: matplotlib in /usr/local/lib/python3.8/dist-packages (from mycolorpy) (3.5.3)\n",
            "Requirement already satisfied: kiwisolver>=1.0.1 in /usr/local/lib/python3.8/dist-packages (from matplotlib->mycolorpy) (1.4.4)\n",
            "Requirement already satisfied: pillow>=6.2.0 in /usr/local/lib/python3.8/dist-packages (from matplotlib->mycolorpy) (8.4.0)\n",
            "Requirement already satisfied: cycler>=0.10 in /usr/local/lib/python3.8/dist-packages (from matplotlib->mycolorpy) (0.11.0)\n",
            "Requirement already satisfied: pyparsing>=2.2.1 in /usr/local/lib/python3.8/dist-packages (from matplotlib->mycolorpy) (3.0.9)\n",
            "Requirement already satisfied: fonttools>=4.22.0 in /usr/local/lib/python3.8/dist-packages (from matplotlib->mycolorpy) (4.38.0)\n",
            "Requirement already satisfied: python-dateutil>=2.7 in /usr/local/lib/python3.8/dist-packages (from matplotlib->mycolorpy) (2.8.2)\n",
            "Requirement already satisfied: packaging>=20.0 in /usr/local/lib/python3.8/dist-packages (from matplotlib->mycolorpy) (23.0)\n",
            "Requirement already satisfied: six>=1.5 in /usr/local/lib/python3.8/dist-packages (from python-dateutil>=2.7->matplotlib->mycolorpy) (1.15.0)\n",
            "Looking in indexes: https://pypi.org/simple, https://us-python.pkg.dev/colab-wheels/public/simple/\n",
            "Requirement already satisfied: colorama in /usr/local/lib/python3.8/dist-packages (0.4.6)\n",
            "Looking in indexes: https://pypi.org/simple, https://us-python.pkg.dev/colab-wheels/public/simple/\n",
            "Looking in links: https://data.pyg.org/whl/torch-1.13.1+cu116.html\n",
            "Requirement already satisfied: torch-geometric in /usr/local/lib/python3.8/dist-packages (2.2.0)\n",
            "Requirement already satisfied: torch-scatter in /usr/local/lib/python3.8/dist-packages (2.1.0+pt113cu116)\n",
            "Requirement already satisfied: torch-sparse in /usr/local/lib/python3.8/dist-packages (0.6.16+pt113cu116)\n",
            "Requirement already satisfied: torch-cluster in /usr/local/lib/python3.8/dist-packages (1.6.0+pt113cu116)\n",
            "Requirement already satisfied: tqdm in /usr/local/lib/python3.8/dist-packages (from torch-geometric) (4.64.1)\n",
            "Requirement already satisfied: psutil>=5.8.0 in /usr/local/lib/python3.8/dist-packages (from torch-geometric) (5.9.4)\n",
            "Requirement already satisfied: scikit-learn in /usr/local/lib/python3.8/dist-packages (from torch-geometric) (1.2.1)\n",
            "Requirement already satisfied: numpy in /usr/local/lib/python3.8/dist-packages (from torch-geometric) (1.22.4)\n",
            "Requirement already satisfied: pyparsing in /usr/local/lib/python3.8/dist-packages (from torch-geometric) (3.0.9)\n",
            "Requirement already satisfied: jinja2 in /usr/local/lib/python3.8/dist-packages (from torch-geometric) (3.1.2)\n",
            "Requirement already satisfied: scipy in /usr/local/lib/python3.8/dist-packages (from torch-geometric) (1.10.1)\n",
            "Requirement already satisfied: requests in /usr/local/lib/python3.8/dist-packages (from torch-geometric) (2.25.1)\n",
            "Requirement already satisfied: MarkupSafe>=2.0 in /usr/local/lib/python3.8/dist-packages (from jinja2->torch-geometric) (2.1.2)\n",
            "Requirement already satisfied: idna<3,>=2.5 in /usr/local/lib/python3.8/dist-packages (from requests->torch-geometric) (2.10)\n",
            "Requirement already satisfied: urllib3<1.27,>=1.21.1 in /usr/local/lib/python3.8/dist-packages (from requests->torch-geometric) (1.26.14)\n",
            "Requirement already satisfied: certifi>=2017.4.17 in /usr/local/lib/python3.8/dist-packages (from requests->torch-geometric) (2022.12.7)\n",
            "Requirement already satisfied: chardet<5,>=3.0.2 in /usr/local/lib/python3.8/dist-packages (from requests->torch-geometric) (4.0.0)\n",
            "Requirement already satisfied: joblib>=1.1.1 in /usr/local/lib/python3.8/dist-packages (from scikit-learn->torch-geometric) (1.2.0)\n",
            "Requirement already satisfied: threadpoolctl>=2.0.0 in /usr/local/lib/python3.8/dist-packages (from scikit-learn->torch-geometric) (3.1.0)\n"
          ]
        }
      ]
    },
    {
      "cell_type": "code",
      "source": [
        "#@title [RUN] Import modules\n",
        "import numpy as np\n",
        "import seaborn as sns\n",
        "import math\n",
        "import itertools\n",
        "import scipy as sp\n",
        "import random\n",
        "\n",
        "import torch\n",
        "import torch.nn as nn\n",
        "import torch.nn.functional as F\n",
        "import torch.optim as optim\n",
        "import torch_geometric\n",
        "from torch_geometric.datasets import Planetoid, ZINC, GNNBenchmarkDataset\n",
        "from torch_scatter import scatter_mean, scatter_max, scatter_sum\n",
        "from torch_geometric.utils import to_dense_adj\n",
        "from torch.nn import Embedding\n",
        "\n",
        "import pdb\n",
        "from datetime import datetime\n",
        "\n",
        "#for nice visualisations\n",
        "import networkx as nx\n",
        "import matplotlib.pyplot as plt\n",
        "\n",
        "from mycolorpy import colorlist as mcp\n",
        "import matplotlib.cm as cm\n",
        "\n",
        "from typing import Mapping, Tuple, Sequence, List\n",
        "import colorama\n",
        "\n",
        "import scipy.linalg\n",
        "from scipy.linalg import block_diag"
      ],
      "metadata": {
        "id": "ZLrrWpkk6xv-"
      },
      "execution_count": 2,
      "outputs": []
    },
    {
      "cell_type": "code",
      "source": [
        "####### PLOTS #######\n",
        "\n",
        "def update_stats(training_stats, epoch_stats):\n",
        "    \"\"\" Store metrics along the training\n",
        "    Args:\n",
        "      epoch_stats: dict containg metrics about one epoch\n",
        "      training_stats: dict containing lists of metrics along training\n",
        "    Returns:\n",
        "      updated training_stats\n",
        "    \"\"\"\n",
        "    if training_stats is None:\n",
        "        training_stats = {}\n",
        "        for key in epoch_stats.keys():\n",
        "            training_stats[key] = []\n",
        "    for key,val in epoch_stats.items():\n",
        "        training_stats[key].append(val)\n",
        "    return training_stats\n",
        "\n",
        "def plot_stats(training_stats, figsize=(5, 5), name=\"\"):\n",
        "    \"\"\" Create one plot for each metric stored in training_stats\n",
        "    \"\"\"\n",
        "    stats_names = [key[6:] for key in training_stats.keys() if key.startswith('train_')]\n",
        "    f, ax = plt.subplots(len(stats_names), 1, figsize=figsize)\n",
        "    if len(stats_names)==1:\n",
        "        ax = np.array([ax])\n",
        "    for key, axx in zip(stats_names, ax.reshape(-1,)):\n",
        "        axx.plot(\n",
        "            training_stats['epoch'],\n",
        "            training_stats[f'train_{key}'],\n",
        "            label=f\"Training {key}\")\n",
        "        axx.plot(\n",
        "            training_stats['epoch'],\n",
        "            training_stats[f'val_{key}'],\n",
        "            label=f\"Validation {key}\")\n",
        "        axx.set_xlabel(\"Training epoch\")\n",
        "        axx.set_ylabel(key)\n",
        "        axx.legend()\n",
        "    plt.title(name)\n",
        "\n",
        "\n",
        "def get_color_coded_str(i, color):\n",
        "    return \"\\033[3{}m{}\\033[0m\".format(int(color), int(i))\n",
        "\n",
        "def print_color_numpy(map, list_graphs):\n",
        "    \"\"\" print matrix map in color according to list_graphs\n",
        "    \"\"\"\n",
        "    list_blocks = []\n",
        "    for i,graph in enumerate(list_graphs):\n",
        "        block_i = (i+1)*np.ones((graph.num_nodes,graph.num_nodes))\n",
        "        list_blocks += [block_i]\n",
        "    block_color = block_diag(*list_blocks)\n",
        "    \n",
        "    map_modified = np.vectorize(get_color_coded_str)(map, block_color)\n",
        "    print(\"\\n\".join([\" \".join([\"{}\"]*map.shape[0])]*map.shape[1]).format(*[x for y in map_modified.tolist() for x in y]))"
      ],
      "metadata": {
        "id": "VLrKgQEuwgtb"
      },
      "execution_count": 3,
      "outputs": []
    },
    {
      "cell_type": "markdown",
      "source": [
        "# Cora dataset\n",
        "\n"
      ],
      "metadata": {
        "id": "82mrcZX0A3QR"
      }
    },
    {
      "cell_type": "code",
      "source": [
        "cora_dataset = Planetoid(\"/tmp/cora\", name=\"cora\", split=\"full\")\n",
        "cora_data = cora_dataset[0]"
      ],
      "metadata": {
        "id": "bBTnJEZWA-Iq"
      },
      "execution_count": 4,
      "outputs": []
    },
    {
      "cell_type": "code",
      "source": [
        "print(\"Training class sizes\")\n",
        "print(torch.bincount(cora_dataset[0].y[cora_dataset[0].train_mask]))\n",
        "print(\"Validation class sizes\")\n",
        "print(torch.bincount(cora_dataset[0].y[cora_dataset[0].val_mask]))\n",
        "print(\"Test class sizes\")\n",
        "print(torch.bincount(cora_dataset[0].y[cora_dataset[0].test_mask]))"
      ],
      "metadata": {
        "colab": {
          "base_uri": "https://localhost:8080/"
        },
        "id": "UuZwDeBwJPZg",
        "outputId": "e94ba5d6-461f-40b3-cd6f-782021cfcc4f"
      },
      "execution_count": 5,
      "outputs": [
        {
          "output_type": "stream",
          "name": "stdout",
          "text": [
            "Training class sizes\n",
            "tensor([160,  90, 196, 341, 196, 138,  87])\n",
            "Validation class sizes\n",
            "tensor([ 61,  36,  78, 158,  81,  57,  29])\n",
            "Test class sizes\n",
            "tensor([130,  91, 144, 319, 149, 103,  64])\n"
          ]
        }
      ]
    },
    {
      "cell_type": "markdown",
      "source": [
        "# Data saving / loading"
      ],
      "metadata": {
        "id": "KL8gKs07J9JP"
      }
    },
    {
      "cell_type": "code",
      "source": [
        "# use google drive for saving and loading information\n",
        "from google.colab import drive\n",
        "import pickle\n",
        "import os\n",
        "\n",
        "drive.mount('/content/drive')\n",
        "file_path = '/content/drive/MyDrive/L45_project/'\n",
        "# create folder if it does not exist already\n",
        "if not os.path.exists(file_path):\n",
        "  os.mkdir(file_path) "
      ],
      "metadata": {
        "colab": {
          "base_uri": "https://localhost:8080/"
        },
        "id": "Z80lU1V-Isky",
        "outputId": "b8bde187-d6c0-4610-d2ef-cd420556cbb1"
      },
      "execution_count": 6,
      "outputs": [
        {
          "output_type": "stream",
          "name": "stdout",
          "text": [
            "Drive already mounted at /content/drive; to attempt to forcibly remount, call drive.mount(\"/content/drive\", force_remount=True).\n"
          ]
        }
      ]
    },
    {
      "cell_type": "code",
      "source": [
        "def save_training_info(training_stats: dict, node_embedding: torch.Tensor, filename: str):\n",
        "  # write training data info to a file\n",
        "  with open(file_path + filename + \".pkl\", 'wb') as fp:\n",
        "    pickle.dump(training_stats, fp)\n",
        "    print('Training stats saved successfully to file: ' + filename)\n",
        "  # write node embedding to a file\n",
        "  torch.save(node_embedding, file_path + filename + \".pt\")\n",
        "  print('Node embedding saved successfully to file: ' + filename)\n",
        "\n",
        "\n",
        "def load_training_info(filename: str):\n",
        "  # load training stats dictionary \n",
        "  with open(file_path + filename + \".pkl\", 'rb') as fp:\n",
        "    train_stats = pickle.load(fp)\n",
        "    print('Training stats successfully loaded from file: ' + filename)\n",
        "  # load node embedding\n",
        "  node_embedding = torch.load(file_path + filename + \".pt\")\n",
        "  print('Node embedding successfully loaded from file: ' + filename)\n",
        "  return train_stats, node_embedding\n",
        "\n",
        "# Final results is a list [seed, test result, [test per class accuracy], [training per class accuracy], [val per class accuracy]]\n",
        "def save_final_results(final_results: List, filename: str):\n",
        "  # write training data info to a file\n",
        "  with open(file_path + filename + \".pkl\", 'ab') as fp:\n",
        "    pickle.dump(final_results, fp)\n",
        "    print('Final results saved successfully to file: ' + filename)\n",
        "\n",
        "# Returns an iterator which contains all the results from our various runs\n",
        "def load_final_results(filename: str):\n",
        "  with open(file_path + filename + \".pkl\", 'rb') as fp:\n",
        "    print('Final results found in file: ' + filename)\n",
        "    while True:\n",
        "      try:\n",
        "        # This notation creates a generator, which we can then iterate through\n",
        "        yield pickle.load(fp)\n",
        "      except EOFError:\n",
        "        break\n"
      ],
      "metadata": {
        "id": "VhUfVQAZTWHu"
      },
      "execution_count": 7,
      "outputs": []
    },
    {
      "cell_type": "code",
      "source": [
        "test_dict = {'c':[1,2,3], 'b':[4,5,6]}\n",
        "test_tensor = torch.tensor([[1., -1.], [1., -1.]])\n",
        "save_training_info(test_dict, test_tensor, \"testing\")\n",
        "recovered_val1, recovered_val2 = load_training_info(\"testing\")\n",
        "print(recovered_val1, recovered_val2)"
      ],
      "metadata": {
        "colab": {
          "base_uri": "https://localhost:8080/"
        },
        "id": "ZECGPy9JTZrT",
        "outputId": "bbe224e2-0e7a-4155-8669-f343f859ad8b"
      },
      "execution_count": 8,
      "outputs": [
        {
          "output_type": "stream",
          "name": "stdout",
          "text": [
            "Training stats saved successfully to file: testing\n",
            "Node embedding saved successfully to file: testing\n",
            "Training stats successfully loaded from file: testing\n",
            "Node embedding successfully loaded from file: testing\n",
            "{'c': [1, 2, 3], 'b': [4, 5, 6]} tensor([[ 1., -1.],\n",
            "        [ 1., -1.]])\n"
          ]
        }
      ]
    },
    {
      "cell_type": "markdown",
      "source": [
        "# Model Wrappers"
      ],
      "metadata": {
        "id": "yVyPiw_TBMj7"
      }
    },
    {
      "cell_type": "code",
      "source": [
        "from torch_geometric.nn import GCN\n",
        "from torch_geometric.typing import Adj\n",
        "\n",
        "class GCNModelWrapper(GCN):\n",
        "\n",
        "  def __init__(self, in_channels: int, hidden_channels: int, num_layers: int, out_channels: int):\n",
        "    # use one less layer as our final graph layer can downsize for us\n",
        "    # super().__init__(in_channels, hidden_channels, num_layers-1)\n",
        "    super().__init__(in_channels, hidden_channels, num_layers)\n",
        "    self.out_channels = out_channels\n",
        "    # self.final_layer = self.init_conv(in_channels, out_channels)\n",
        "    self.final_layer = nn.Linear(in_channels, out_channels)\n",
        "\n",
        "  def forward(self, x: torch.Tensor, edge_index: Adj):\n",
        "    x = super().forward(x, edge_index)\n",
        "    # output = self.final_layer(x, edge_index)\n",
        "    output = self.final_layer(x)\n",
        "    return output\n"
      ],
      "metadata": {
        "id": "m_yBLcOs6V7v"
      },
      "execution_count": 9,
      "outputs": []
    },
    {
      "cell_type": "code",
      "source": [
        "from torch_geometric.nn import GAT\n",
        "\n",
        "class GATModelWrapper(GAT):\n",
        "\n",
        "  def __init__(self, in_channels: int, hidden_channels: int, num_layers: int, out_channels: int, v2: bool):\n",
        "    # Create the model to extract the node embeddings then pass these through a linear layer for classification\n",
        "    super().__init__(in_channels, hidden_channels, num_layers, v2=v2)\n",
        "    self.out_channels = out_channels\n",
        "    self.final_layer = nn.Linear(in_channels, out_channels)\n",
        "\n",
        "  def forward(self, x: torch.Tensor, edge_index: Adj):\n",
        "    x = super().forward(x, edge_index)\n",
        "    output = self.final_layer(x)\n",
        "    return output, x"
      ],
      "metadata": {
        "id": "M9xNcjhyBRmX"
      },
      "execution_count": 10,
      "outputs": []
    },
    {
      "cell_type": "markdown",
      "source": [
        "# Training code\n",
        "\n"
      ],
      "metadata": {
        "id": "5mLwBJNywK-9"
      }
    },
    {
      "cell_type": "code",
      "source": [
        "# @title [RUN] Hyperparameters GNN\n",
        "\n",
        "NUM_EPOCHS =  10 #@param {type:\"integer\"}\n",
        "LR         = 0.01 #@param {type:\"number\"}\n",
        "\n",
        "#you can add more here if you need"
      ],
      "metadata": {
        "id": "-BLISzysQkdA",
        "cellView": "form"
      },
      "execution_count": 11,
      "outputs": []
    },
    {
      "cell_type": "code",
      "source": [
        "# Code taken from L45 practical notebook\n",
        "def train_gnn_cora(X, edge_indices, y, mask, model, optimiser):\n",
        "    model.train()\n",
        "    optimiser.zero_grad()\n",
        "    #y_out, _ = model(X, edge_indices)\n",
        "    y_out, _ = model(X)\n",
        "    y_hat = y_out[mask]\n",
        "    loss = F.cross_entropy(y_hat, y)\n",
        "    loss.backward()\n",
        "    optimiser.step()\n",
        "    return loss.data\n",
        "\n",
        "def evaluate_gnn_cora(X, edge_indices, y, mask, model, num_classes):\n",
        "    model.eval()\n",
        "    y_out, node_embeddings = model(X, edge_indices)\n",
        "    y_hat = y_out[mask]\n",
        "    y_hat = y_hat.data.max(1)[1]\n",
        "    num_correct = y_hat.eq(y.data).sum()\n",
        "    num_total = len(y)\n",
        "    accuracy = 100.0 * (num_correct/num_total)\n",
        "\n",
        "    # calculate per class accuracy\n",
        "    values, counts = torch.unique(y_hat[y_hat == y.data], return_counts=True)\n",
        "    per_class_counts = torch.zeros(num_classes)\n",
        "    # allocate the number of counts per class\n",
        "    for i, x in enumerate(values):\n",
        "      per_class_counts[x] = counts[i]\n",
        "    # find total number of data points per class in the split\n",
        "    total_per_class = torch.bincount(y.data)\n",
        "    per_class_accuracy = torch.div(per_class_counts, total_per_class)\n",
        "\n",
        "    return accuracy, per_class_accuracy, node_embeddings\n",
        "    \n",
        "# Training loop\n",
        "def train_eval_loop_gnn_cora(model, edge_indices, train_x, train_y, train_mask, valid_x, valid_y, valid_mask, \n",
        "                             test_x, test_y, test_mask, num_classes, seed, filename):\n",
        "    optimiser = optim.Adam(model.parameters(), lr=LR)\n",
        "    training_stats = None\n",
        "    # Training loop\n",
        "    for epoch in range(NUM_EPOCHS):\n",
        "        train_loss = train_gnn_cora(train_x, edge_indices, train_y, train_mask, model, optimiser)\n",
        "        train_acc, train_class_acc, _ = evaluate_gnn_cora(train_x, edge_indices, train_y, train_mask, model, num_classes)\n",
        "        valid_acc, valid_class_acc, _ = evaluate_gnn_cora(valid_x, edge_indices, valid_y, valid_mask, model, num_classes)\n",
        "        if epoch % 10 == 0 or epoch == (NUM_EPOCHS-1):\n",
        "            print(f\"Epoch {epoch} with train loss: {train_loss:.3f} train accuracy: {train_acc:.3f} validation accuracy: {valid_acc:.3f}\")\n",
        "            print(\"Per class train accuracy: \", train_class_acc)\n",
        "            print(\"Per class val accuracy: \", valid_class_acc)\n",
        "        # store the loss and the accuracy for the final plot\n",
        "        epoch_stats = {'train_acc': train_acc, 'val_acc': valid_acc, 'epoch':epoch}\n",
        "        training_stats = update_stats(training_stats, epoch_stats)\n",
        "\n",
        "    # Lets look at our final test performance\n",
        "    # Only need to get the node embeddings once, take from the training evaluation call\n",
        "    test_acc, test_class_acc, node_embeddings = evaluate_gnn_cora(test_x, edge_indices, test_y, test_mask, model, num_classes)\n",
        "    print(f\"Our final test accuracy for the GNN is: {test_acc:.3f}\")\n",
        "    print(\"Final per class accuracy on test set: \", test_class_acc)\n",
        "\n",
        "    # Save training stats if on final iteration of the run\n",
        "    save_training_info(training_stats, node_embeddings, filename+\"_\"+str(seed))\n",
        "    # Save final results\n",
        "    final_results_list = [seed, test_acc, test_class_acc, train_class_acc, valid_class_acc]\n",
        "    save_final_results(final_results_list, filename)\n",
        "    # Save final model weights incase we want to do further inference later\n",
        "    torch.save(model.state_dict(), file_path+filename+\"_\" + str(seed) + \"_model.pt\")\n",
        "    return training_stats"
      ],
      "metadata": {
        "id": "AFTSH-Vuv4gk"
      },
      "execution_count": 12,
      "outputs": []
    },
    {
      "cell_type": "code",
      "source": [
        "def set_seeds(seed):\n",
        "  print(\"SETTING SEEDS TO: \", str(seed))\n",
        "  # seed the potential sources of randomness\n",
        "  torch.manual_seed(seed)\n",
        "  np.random.seed(seed)\n",
        "  random.seed(seed)"
      ],
      "metadata": {
        "id": "A_O5m_YIaKY-"
      },
      "execution_count": 13,
      "outputs": []
    },
    {
      "cell_type": "code",
      "source": [
        "# Get the edge indices and node features for our model\n",
        "edge_indices = cora_data.edge_index\n",
        "node_features = cora_data.x\n",
        "\n",
        "# Get masks and training labels for each split\n",
        "train_mask = cora_data.train_mask\n",
        "train_y = cora_data.y[train_mask]\n",
        "valid_mask = cora_data.val_mask\n",
        "valid_y = cora_data.y[valid_mask]\n",
        "test_mask = cora_data.test_mask\n",
        "test_y = cora_data.y[test_mask]\n",
        "\n",
        "\n",
        "num_classes = 7\n",
        "# CHANGE: To name of model being tested\n",
        "filename = \"GATV2\"\n",
        "# use 30 seeds which have been randomly generated using seed_list = [np.random.randint(4294967296 - 1) for i in range(30)]\n",
        "seeds = [4193977854, 1863727779, 170173784, 2342954646, 116846604, 2105922959, 2739899259, 1024258131, 806299656, 880019963, 1818027900, 2135956485, 3710910636, 1517964140, 4083009686, 2455059856, 400225693, 89475662, 361232447, 3647665043, 1221215631, 2036056847, 1860537279, 516507873, 3692371949, 3300171104, 2794978777, 3303475786, 2952735006, 572297925]\n",
        "\n",
        "# create folder for saving all model info into if it does not exist already\n",
        "if not os.path.exists(file_path+filename+\"/\"):\n",
        "  os.mkdir(file_path+filename+\"/\")\n",
        "\n",
        "for seed in seeds:\n",
        "  set_seeds(seed)\n",
        "  # Create the model\n",
        "  model = GATModelWrapper(in_channels = node_features.shape[-1], hidden_channels = node_features.shape[-1], num_layers=1, out_channels=num_classes, v2=True)\n",
        "\n",
        "  # Run training loop\n",
        "  print(\"TRAINING WITH SEED: \", str(seed))\n",
        "  train_stats_cora = train_eval_loop_gnn_cora(model, edge_indices, node_features, train_y, train_mask, \n",
        "                                            node_features, valid_y, valid_mask, node_features, test_y, test_mask, num_classes, seed, filename+\"/\"+filename)\n",
        "  plot_stats(train_stats_cora, name=filename+\"_Cora\")"
      ],
      "metadata": {
        "id": "Rl6KVverQy7C",
        "colab": {
          "base_uri": "https://localhost:8080/",
          "height": 1000
        },
        "outputId": "7392ac02-08e5-45ea-8e36-77a2d56793d4"
      },
      "execution_count": null,
      "outputs": [
        {
          "output_type": "stream",
          "name": "stdout",
          "text": [
            "SETTING SEEDS TO:  1\n",
            "TRAINING WITH SEED:  1\n",
            "Epoch 0 with train loss: 1.951 train accuracy: 44.536 validation accuracy: 43.200\n",
            "Per class train accuracy:  tensor([0.0812, 0.0000, 0.5714, 1.0000, 0.3265, 0.0580, 0.0000])\n",
            "Per class val accuracy:  tensor([0.0328, 0.0000, 0.4615, 1.0000, 0.2346, 0.0175, 0.0000])\n",
            "Epoch 9 with train loss: 0.024 train accuracy: 99.255 validation accuracy: 82.200\n",
            "Per class train accuracy:  tensor([0.9875, 1.0000, 1.0000, 0.9912, 0.9898, 0.9928, 0.9885])\n",
            "Per class val accuracy:  tensor([0.7213, 0.7500, 0.9103, 0.8291, 0.8642, 0.8246, 0.7241])\n",
            "Our final test accuracy for the GNN is: 83.200\n",
            "Final per class accuracy on test set:  tensor([0.7769, 0.7473, 0.9028, 0.8715, 0.8389, 0.7961, 0.7500])\n",
            "Training stats saved successfully to file: GATV2/GATV2_1\n",
            "Node embedding saved successfully to file: GATV2/GATV2_1\n",
            "Final results saved successfully to file: GATV2/GATV2\n",
            "SETTING SEEDS TO:  2\n",
            "TRAINING WITH SEED:  2\n",
            "Epoch 0 with train loss: 1.950 train accuracy: 45.116 validation accuracy: 41.400\n",
            "Per class train accuracy:  tensor([0.0750, 0.0000, 0.5459, 1.0000, 0.3724, 0.0870, 0.0000])\n",
            "Per class val accuracy:  tensor([0.0000, 0.0000, 0.3846, 1.0000, 0.2346, 0.0000, 0.0000])\n",
            "Epoch 9 with train loss: 0.019 train accuracy: 99.669 validation accuracy: 83.600\n",
            "Per class train accuracy:  tensor([1.0000, 1.0000, 1.0000, 0.9971, 0.9898, 1.0000, 0.9885])\n",
            "Per class val accuracy:  tensor([0.7213, 0.8056, 0.9231, 0.8481, 0.8519, 0.8596, 0.7241])\n",
            "Our final test accuracy for the GNN is: 82.200\n",
            "Final per class accuracy on test set:  tensor([0.7615, 0.6813, 0.9028, 0.8715, 0.8188, 0.7767, 0.7969])\n",
            "Training stats saved successfully to file: GATV2/GATV2_2\n",
            "Node embedding saved successfully to file: GATV2/GATV2_2\n",
            "Final results saved successfully to file: GATV2/GATV2\n"
          ]
        },
        {
          "output_type": "display_data",
          "data": {
            "text/plain": [
              "<Figure size 360x360 with 1 Axes>"
            ],
            "image/png": "[encoded data removed]"
          },
          "metadata": {
            "needs_background": "light"
          }
        },
        {
          "output_type": "display_data",
          "data": {
            "text/plain": [
              "<Figure size 360x360 with 1 Axes>"
            ],
            "image/png": "[encoded data removed]"
          },
          "metadata": {
            "needs_background": "light"
          }
        }
      ]
    },
    {
      "cell_type": "markdown",
      "source": [
        "# TESTING LOADING"
      ],
      "metadata": {
        "id": "u4GMM4D5dLoB"
      }
    },
    {
      "cell_type": "code",
      "source": [
        "final_results = load_final_results(filename)\n",
        "for r in final_results:\n",
        "  print(r)"
      ],
      "metadata": {
        "colab": {
          "base_uri": "https://localhost:8080/"
        },
        "id": "35RkMAgK8EHw",
        "outputId": "0ef2d1d1-5e0c-4057-a43f-49d0216cd6a7"
      },
      "execution_count": null,
      "outputs": [
        {
          "output_type": "stream",
          "name": "stdout",
          "text": [
            "Final results found in file: GATV2\n",
            "[1, tensor(83.1000), tensor([0.7615, 0.7473, 0.8750, 0.8809, 0.8389, 0.8058, 0.7656]), tensor([0.9875, 0.9889, 1.0000, 0.9912, 0.9898, 0.9928, 0.9770]), tensor([0.7213, 0.7778, 0.8974, 0.8354, 0.8642, 0.8246, 0.7241])]\n",
            "[2, tensor(82.), tensor([0.7615, 0.6593, 0.9028, 0.8777, 0.8188, 0.7767, 0.7656]), tensor([1.0000, 0.9889, 1.0000, 0.9883, 0.9898, 1.0000, 0.9885]), tensor([0.7213, 0.7778, 0.9231, 0.8608, 0.8519, 0.8421, 0.7586])]\n"
          ]
        }
      ]
    },
    {
      "cell_type": "code",
      "source": [
        "training_stats_1, embedding = load_training_info(filename+\"_1\")\n",
        "plot_stats(training_stats_1, name=\"Testing\")\n",
        "print(embedding)\n",
        "print(node_features)"
      ],
      "metadata": {
        "colab": {
          "base_uri": "https://localhost:8080/",
          "height": 645
        },
        "id": "bZ3GQQld9b97",
        "outputId": "36c49aee-27e6-42ed-81ff-d1d40ec0600b"
      },
      "execution_count": null,
      "outputs": [
        {
          "output_type": "stream",
          "name": "stdout",
          "text": [
            "Training stats successfully loaded from file: GATV2_1\n",
            "Node embedding successfully loaded from file: GATV2_1\n",
            "tensor([[ 0.3694, -0.3698,  0.2766,  ...,  0.3216,  0.2274,  0.0202],\n",
            "        [ 0.3314, -0.0802, -0.3007,  ...,  0.7356,  0.0207,  0.6433],\n",
            "        [ 0.3232, -0.0492, -0.2139,  ...,  0.7058,  0.0322,  0.6001],\n",
            "        ...,\n",
            "        [ 0.1757, -0.2687,  0.1217,  ...,  0.1831,  0.5841, -0.2099],\n",
            "        [ 0.5839, -0.1735,  0.3632,  ...,  0.1244,  0.3284,  0.0446],\n",
            "        [ 0.5833, -0.1772,  0.3626,  ...,  0.1264,  0.3263,  0.0459]],\n",
            "       requires_grad=True)\n",
            "tensor([[0., 0., 0.,  ..., 0., 0., 0.],\n",
            "        [0., 0., 0.,  ..., 0., 0., 0.],\n",
            "        [0., 0., 0.,  ..., 0., 0., 0.],\n",
            "        ...,\n",
            "        [0., 0., 0.,  ..., 0., 0., 0.],\n",
            "        [0., 0., 0.,  ..., 0., 0., 0.],\n",
            "        [0., 0., 0.,  ..., 0., 0., 0.]])\n"
          ]
        },
        {
          "output_type": "display_data",
          "data": {
            "text/plain": [
              "<Figure size 360x360 with 1 Axes>"
            ],
            "image/png": "[encoded data removed]"
          },
          "metadata": {
            "needs_background": "light"
          }
        }
      ]
    },
    {
      "cell_type": "code",
      "source": [
        "# Loading stored model weights\n",
        "model = GATModelWrapper(in_channels = node_features.shape[-1], hidden_channels = node_features.shape[-1], num_layers=1, out_channels=num_classes, v2=True)\n",
        "model.load_state_dict(torch.load(file_path+filename+\"/\"+\"GATV2_1_model.pt\"))\n",
        "model.eval()"
      ],
      "metadata": {
        "colab": {
          "base_uri": "https://localhost:8080/"
        },
        "id": "s1nR7AjndQJn",
        "outputId": "9eccfaf3-7828-431a-b5c6-79d6bc6847e4"
      },
      "execution_count": null,
      "outputs": [
        {
          "output_type": "execute_result",
          "data": {
            "text/plain": [
              "GATModelWrapper(1433, 7, num_layers=1)"
            ]
          },
          "metadata": {},
          "execution_count": 17
        }
      ]
    },
    {
      "cell_type": "markdown",
      "source": [
        "- Plot graph with average training stats\n",
        "- Save node embeddings for each run\n",
        "- Save training stats for each run\n",
        "- Save test accuracy for each run\n"
      ],
      "metadata": {
        "id": "GubPzc9IQyP3"
      }
    },
    {
      "cell_type": "code",
      "source": [
        "# Code taken from L45 practical notebook\n",
        "def train_gnn_cora(X, edge_indices, y, mask, model, optimiser, loader):\n",
        "    model.train()\n",
        "    total_loss = 0\n",
        "    for pos_rw, neg_rw in loader:\n",
        "        optimizer.zero_grad()\n",
        "        loss = model.loss(pos_rw.to(device), neg_rw.to(device))\n",
        "        loss.backward()\n",
        "        optimizer.step()\n",
        "        total_loss += loss.item()\n",
        "    return total_loss / len(loader)\n",
        "\n",
        "def evaluate_gnn_cora(X, edge_indices, y, mask, model, num_classes, loader):\n",
        "    model.eval()\n",
        "    z = model()\n",
        "    acc = model.test(z[cora_data.train_mask], cora_data.y[cora_data.train_mask],\n",
        "                      z[cora_data.val_mask], cora_data.y[cora_data.val_mask],\n",
        "                      max_iter=150)\n",
        "    #y_out = z[cora_data.train_mask]\n",
        "    y_hat = z[cora_data.val_mask].to(device)\n",
        "    y = cora_data.y[cora_data.val_mask].to(device)\n",
        "    \n",
        "    #model.eval()\n",
        "    #y_out, node_embeddings = model(X, edge_indices)\n",
        "    #y_hat = y_out[mask]\n",
        "    y_hat = y_hat.data.max(1)[1]\n",
        "    num_correct = y_hat.eq(y.data).sum()\n",
        "    num_total = len(y)\n",
        "    accuracy = 100.0 * (num_correct/num_total)\n",
        "\n",
        "    # calculate per class accuracy\n",
        "    values, counts = torch.unique(y_hat[y_hat == y.data], return_counts=True)\n",
        "    per_class_counts = torch.zeros(num_classes)\n",
        "    # allocate the number of counts per class\n",
        "    for i, x in enumerate(values):\n",
        "      per_class_counts[x] = counts[i]\n",
        "    per_class_counts = per_class_counts.to(device)\n",
        "    # find total number of data points per class in the split\n",
        "    total_per_class = torch.bincount(y.data).to(device)\n",
        "    per_class_accuracy = torch.div(per_class_counts, total_per_class)\n",
        "\n",
        "    return accuracy, per_class_accuracy\n",
        "    \n",
        "# Training loop\n",
        "def train_eval_loop_gnn_cora(model, edge_indices, train_x, train_y, train_mask, valid_x, valid_y, valid_mask, \n",
        "                             test_x, test_y, test_mask, num_classes, seed, filename, loader):\n",
        "    optimiser = optim.Adam(model.parameters(), lr=LR)\n",
        "    training_stats = None\n",
        "    # Training loop\n",
        "    for epoch in range(NUM_EPOCHS):\n",
        "        train_loss = train_gnn_cora(train_x, edge_indices, train_y, train_mask, model, optimiser, loader)\n",
        "        train_acc, train_class_acc = evaluate_gnn_cora(train_x, edge_indices, train_y, train_mask, model, num_classes, loader)\n",
        "        valid_acc, valid_class_acc = evaluate_gnn_cora(valid_x, edge_indices, valid_y, valid_mask, model, num_classes, loader)\n",
        "        if epoch % 10 == 0 or epoch == (NUM_EPOCHS-1):\n",
        "            print(f\"Epoch {epoch} with train loss: {train_loss:.3f} train accuracy: {train_acc:.3f} validation accuracy: {valid_acc:.3f}\")\n",
        "            #print(\"Per class train accuracy: \", train_class_acc)\n",
        "            #print(\"Per class val accuracy: \", valid_class_acc)\n",
        "        # store the loss and the accuracy for the final plot\n",
        "        epoch_stats = {'train_acc': train_acc, 'val_acc': valid_acc, 'epoch':epoch}\n",
        "        training_stats = update_stats(training_stats, epoch_stats)\n",
        "\n",
        "    # Lets look at our final test performance\n",
        "    # Only need to get the node embeddings once, take from the training evaluation call\n",
        "    test_acc, test_class_acc = evaluate_gnn_cora(test_x, edge_indices, test_y, test_mask, model, num_classes, loader)\n",
        "    print(f\"Our final test accuracy for the GNN is: {test_acc:.3f}\")\n",
        "    print(\"Final per class accuracy on test set: \", test_class_acc)\n",
        "\n",
        "    # Save training stats if on final iteration of the run\n",
        "    #save_training_info(training_stats, node_embeddings, filename+\"_\"+str(seed))\n",
        "    # Save final results\n",
        "    final_results_list = [seed, test_acc, test_class_acc, train_class_acc, valid_class_acc]\n",
        "    save_final_results(final_results_list, filename)\n",
        "    # Save final model weights incase we want to do further inference later\n",
        "    torch.save(model.state_dict(), file_path+filename+\"_\" + str(seed) + \"_model.pt\")\n",
        "    return training_stats"
      ],
      "metadata": {
        "id": "lp0VtUUmCtco"
      },
      "execution_count": 14,
      "outputs": []
    },
    {
      "cell_type": "code",
      "source": [
        "from torch_geometric.nn import Node2Vec\n",
        "\n",
        "# Get the edge indices and node features for our model\n",
        "edge_indices = cora_data.edge_index\n",
        "node_features = cora_data.x\n",
        "\n",
        "# Get masks and training labels for each split\n",
        "train_mask = cora_data.train_mask\n",
        "train_y = cora_data.y[train_mask]\n",
        "valid_mask = cora_data.val_mask\n",
        "valid_y = cora_data.y[valid_mask]\n",
        "test_mask = cora_data.test_mask\n",
        "test_y = cora_data.y[test_mask]\n",
        "\n",
        "device = 'cuda' if torch.cuda.is_available() else 'cpu'\n",
        "\n",
        "num_classes = 7\n",
        "# CHANGE: To name of model being tested\n",
        "filename = \"Node2Vec\"\n",
        "# use 30 seeds which have been randomly generated using seed_list = [np.random.randint(4294967296 - 1) for i in range(30)]\n",
        "seeds = [4193977854, 1863727779, 170173784, 2342954646, 116846604, 2105922959, 2739899259, 1024258131, 806299656, 880019963, 1818027900, 2135956485, 3710910636, 1517964140, 4083009686, 2455059856, 400225693, 89475662, 361232447, 3647665043, 1221215631, 2036056847, 1860537279, 516507873, 3692371949, 3300171104, 2794978777, 3303475786, 2952735006, 572297925]\n",
        "\n",
        "# create folder for saving all model info into if it does not exist already\n",
        "if not os.path.exists(file_path+filename+\"/\"):\n",
        "  os.mkdir(file_path+filename+\"/\")\n",
        "\n",
        "for seed in seeds:\n",
        "  set_seeds(seed)\n",
        "  # Create the model\n",
        "  #model = GATModelWrapper(in_channels = node_features.shape[-1], hidden_channels = node_features.shape[-1], num_layers=1, out_channels=num_classes, v2=True)\n",
        "  model = Node2Vec(cora_data.edge_index.to(device), embedding_dim=128, walk_length=20,\n",
        "                     context_size=10, walks_per_node=10,\n",
        "                     num_negative_samples=1, p=1, q=1, sparse=True).to(device)\n",
        "  loader = model.loader(batch_size=128, shuffle=True,\n",
        "                          num_workers=0)\n",
        "  optimizer = torch.optim.SparseAdam(list(model.parameters()), lr=0.01)\n",
        "\n",
        "  #train_stats_cora = train_eval_loop_gnn_cora(model, edge_indices, node_features, train_y, train_mask, \n",
        "                                            #node_features, valid_y, valid_mask, node_features, test_y, test_mask, num_classes, seed, filename+\"/\"+filename, loader)\n",
        "\n",
        "  def train():\n",
        "      model.train()\n",
        "      total_loss = 0\n",
        "      for pos_rw, neg_rw in loader:\n",
        "          optimizer.zero_grad()\n",
        "          loss = model.loss(pos_rw.to(device), neg_rw.to(device))\n",
        "          loss.backward()\n",
        "          optimizer.step()\n",
        "          total_loss += loss.item()\n",
        "          #print(loss.data)\n",
        "      #epoch_stats = {'train_acc': train_acc, 'val_acc': valid_acc, 'epoch':epoch}\n",
        "      return total_loss / len(loader)\n",
        "\n",
        "  @torch.no_grad()\n",
        "  def test():\n",
        "    model.eval()\n",
        "    z = model()\n",
        "    acc_train = model.test(z[cora_data.train_mask], cora_data.y[cora_data.train_mask],\n",
        "                      z[cora_data.train_mask], cora_data.y[cora_data.train_mask],\n",
        "                      max_iter=150)\n",
        "    acc_val = model.test(z[cora_data.train_mask], cora_data.y[cora_data.train_mask],\n",
        "                      z[cora_data.val_mask], cora_data.y[cora_data.val_mask],\n",
        "                      max_iter=150)\n",
        "    acc_test = model.test(z[cora_data.train_mask], cora_data.y[cora_data.train_mask],\n",
        "                      z[cora_data.test_mask], cora_data.y[cora_data.test_mask],\n",
        "                      max_iter=150)\n",
        "    y_train = cora_data.y[cora_data.train_mask].to(device)\n",
        "    y_hat_train = z[cora_data.train_mask].to(device)\n",
        "    y_val = cora_data.y[cora_data.val_mask].to(device)\n",
        "    y_hat_val = z[cora_data.val_mask].to(device)\n",
        "    y_test = cora_data.y[cora_data.test_mask].to(device)\n",
        "    y_hat_test = z[cora_data.test_mask].to(device)\n",
        "\n",
        "    loss_train = F.cross_entropy(y_hat_train, y_train)\n",
        "    loss_val = F.cross_entropy(y_hat_val, y_val)\n",
        "    loss_test = F.cross_entropy(y_hat_test, y_test)\n",
        "\n",
        "    return acc_train, acc_val, acc_test, loss_train, loss_val, loss_test\n",
        "\n",
        "  for epoch in range(1, 40):\n",
        "    loss = train()\n",
        "    acc_train, acc_val, acc_test, loss_train, loss_val, loss_test = test()\n",
        "    print(f'Epoch: {epoch:02d}, Loss: {loss:.4f}, Acc_train: {acc_train:.4f}, Acc_val: {acc_val:.4f}, Acc_test: {acc_test:.4f}')\n",
        "\n",
        "  # Run training loop\n",
        "  #print(\"TRAINING WITH SEED: \", str(seed))\n",
        "  #train_stats_cora = train_eval_loop_gnn_cora(model, edge_indices, node_features, train_y, train_mask, \n",
        "  #                                          node_features, valid_y, valid_mask, node_features, test_y, test_mask, num_classes, seed, filename+\"/\"+filename)\n",
        "  #plot_stats(train_stats_cora, name=filename+\"_Cora\")"
      ],
      "metadata": {
        "colab": {
          "base_uri": "https://localhost:8080/",
          "height": 1000
        },
        "id": "DAdzhL_4AB9j",
        "outputId": "c3d40df2-2e97-48c7-dbed-53d80a975bbf"
      },
      "execution_count": 15,
      "outputs": [
        {
          "output_type": "stream",
          "name": "stdout",
          "text": [
            "SETTING SEEDS TO:  4193977854\n",
            "Epoch: 01, Loss: 8.1413, Acc_train: 0.4462, Acc_val: 0.2460, Acc_test: 0.2290\n",
            "Epoch: 02, Loss: 6.0991, Acc_train: 0.5000, Acc_val: 0.2900, Acc_test: 0.2680\n",
            "Epoch: 03, Loss: 4.9834, Acc_train: 0.5472, Acc_val: 0.3300, Acc_test: 0.3110\n",
            "Epoch: 04, Loss: 4.1355, Acc_train: 0.6051, Acc_val: 0.3860, Acc_test: 0.3730\n",
            "Epoch: 05, Loss: 3.4939, Acc_train: 0.6416, Acc_val: 0.4120, Acc_test: 0.4220\n",
            "Epoch: 06, Loss: 2.9725, Acc_train: 0.6796, Acc_val: 0.4760, Acc_test: 0.4520\n",
            "Epoch: 07, Loss: 2.5564, Acc_train: 0.7219, Acc_val: 0.5080, Acc_test: 0.4960\n",
            "Epoch: 08, Loss: 2.2324, Acc_train: 0.7575, Acc_val: 0.5200, Acc_test: 0.5180\n",
            "Epoch: 09, Loss: 1.9625, Acc_train: 0.7765, Acc_val: 0.5300, Acc_test: 0.5390\n",
            "Epoch: 10, Loss: 1.7468, Acc_train: 0.7997, Acc_val: 0.5480, Acc_test: 0.5650\n",
            "Epoch: 11, Loss: 1.5779, Acc_train: 0.8146, Acc_val: 0.5700, Acc_test: 0.5790\n",
            "Epoch: 12, Loss: 1.4357, Acc_train: 0.8237, Acc_val: 0.5820, Acc_test: 0.6120\n",
            "Epoch: 13, Loss: 1.3248, Acc_train: 0.8369, Acc_val: 0.6080, Acc_test: 0.6160\n",
            "Epoch: 14, Loss: 1.2381, Acc_train: 0.8427, Acc_val: 0.6100, Acc_test: 0.6410\n",
            "Epoch: 15, Loss: 1.1650, Acc_train: 0.8469, Acc_val: 0.6220, Acc_test: 0.6520\n",
            "Epoch: 16, Loss: 1.1079, Acc_train: 0.8576, Acc_val: 0.6420, Acc_test: 0.6650\n",
            "Epoch: 17, Loss: 1.0602, Acc_train: 0.8642, Acc_val: 0.6640, Acc_test: 0.6760\n",
            "Epoch: 18, Loss: 1.0276, Acc_train: 0.8709, Acc_val: 0.6660, Acc_test: 0.6920\n",
            "Epoch: 19, Loss: 0.9992, Acc_train: 0.8725, Acc_val: 0.6740, Acc_test: 0.7010\n",
            "Epoch: 20, Loss: 0.9719, Acc_train: 0.8742, Acc_val: 0.7020, Acc_test: 0.7060\n",
            "Epoch: 21, Loss: 0.9533, Acc_train: 0.8767, Acc_val: 0.7060, Acc_test: 0.7170\n",
            "Epoch: 22, Loss: 0.9365, Acc_train: 0.8800, Acc_val: 0.7160, Acc_test: 0.7200\n",
            "Epoch: 23, Loss: 0.9217, Acc_train: 0.8816, Acc_val: 0.7280, Acc_test: 0.7260\n",
            "Epoch: 24, Loss: 0.9108, Acc_train: 0.8833, Acc_val: 0.7340, Acc_test: 0.7300\n",
            "Epoch: 25, Loss: 0.9040, Acc_train: 0.8849, Acc_val: 0.7360, Acc_test: 0.7320\n",
            "Epoch: 26, Loss: 0.8943, Acc_train: 0.8891, Acc_val: 0.7380, Acc_test: 0.7370\n",
            "Epoch: 27, Loss: 0.8877, Acc_train: 0.8940, Acc_val: 0.7480, Acc_test: 0.7380\n",
            "Epoch: 28, Loss: 0.8821, Acc_train: 0.8957, Acc_val: 0.7540, Acc_test: 0.7440\n",
            "Epoch: 29, Loss: 0.8748, Acc_train: 0.8949, Acc_val: 0.7640, Acc_test: 0.7470\n",
            "Epoch: 30, Loss: 0.8710, Acc_train: 0.8990, Acc_val: 0.7820, Acc_test: 0.7540\n",
            "Epoch: 31, Loss: 0.8670, Acc_train: 0.8957, Acc_val: 0.7780, Acc_test: 0.7550\n",
            "Epoch: 32, Loss: 0.8633, Acc_train: 0.8974, Acc_val: 0.7700, Acc_test: 0.7580\n",
            "Epoch: 33, Loss: 0.8612, Acc_train: 0.8998, Acc_val: 0.7800, Acc_test: 0.7640\n",
            "Epoch: 34, Loss: 0.8558, Acc_train: 0.8982, Acc_val: 0.7800, Acc_test: 0.7610\n",
            "Epoch: 35, Loss: 0.8535, Acc_train: 0.9065, Acc_val: 0.7900, Acc_test: 0.7660\n",
            "Epoch: 36, Loss: 0.8509, Acc_train: 0.9073, Acc_val: 0.7820, Acc_test: 0.7680\n",
            "Epoch: 37, Loss: 0.8497, Acc_train: 0.9040, Acc_val: 0.7960, Acc_test: 0.7800\n",
            "Epoch: 38, Loss: 0.8499, Acc_train: 0.9007, Acc_val: 0.7980, Acc_test: 0.7790\n",
            "Epoch: 39, Loss: 0.8475, Acc_train: 0.8965, Acc_val: 0.8060, Acc_test: 0.7740\n",
            "SETTING SEEDS TO:  1863727779\n",
            "Epoch: 01, Loss: 8.1438, Acc_train: 0.4478, Acc_val: 0.1940, Acc_test: 0.2180\n",
            "Epoch: 02, Loss: 6.0828, Acc_train: 0.5099, Acc_val: 0.2480, Acc_test: 0.2600\n",
            "Epoch: 03, Loss: 4.9656, Acc_train: 0.5671, Acc_val: 0.2960, Acc_test: 0.3210\n",
            "Epoch: 04, Loss: 4.1416, Acc_train: 0.6126, Acc_val: 0.3600, Acc_test: 0.3530\n",
            "Epoch: 05, Loss: 3.4788, Acc_train: 0.6680, Acc_val: 0.4080, Acc_test: 0.3880\n",
            "Epoch: 06, Loss: 2.9635, Acc_train: 0.6970, Acc_val: 0.4320, Acc_test: 0.4250\n",
            "Epoch: 07, Loss: 2.5462, Acc_train: 0.7136, Acc_val: 0.4780, Acc_test: 0.4690\n",
            "Epoch: 08, Loss: 2.2187, Acc_train: 0.7368, Acc_val: 0.5200, Acc_test: 0.5050\n",
            "Epoch: 09, Loss: 1.9494, Acc_train: 0.7757, Acc_val: 0.5540, Acc_test: 0.5350\n",
            "Epoch: 10, Loss: 1.7360, Acc_train: 0.7906, Acc_val: 0.5960, Acc_test: 0.5590\n",
            "Epoch: 11, Loss: 1.5637, Acc_train: 0.8071, Acc_val: 0.6240, Acc_test: 0.5820\n",
            "Epoch: 12, Loss: 1.4242, Acc_train: 0.8278, Acc_val: 0.6420, Acc_test: 0.6030\n",
            "Epoch: 13, Loss: 1.3147, Acc_train: 0.8419, Acc_val: 0.6680, Acc_test: 0.6180\n",
            "Epoch: 14, Loss: 1.2291, Acc_train: 0.8493, Acc_val: 0.6840, Acc_test: 0.6290\n",
            "Epoch: 15, Loss: 1.1574, Acc_train: 0.8642, Acc_val: 0.7000, Acc_test: 0.6500\n",
            "Epoch: 16, Loss: 1.1019, Acc_train: 0.8709, Acc_val: 0.7160, Acc_test: 0.6670\n",
            "Epoch: 17, Loss: 1.0587, Acc_train: 0.8750, Acc_val: 0.7200, Acc_test: 0.6810\n",
            "Epoch: 18, Loss: 1.0213, Acc_train: 0.8825, Acc_val: 0.7240, Acc_test: 0.6890\n",
            "Epoch: 19, Loss: 0.9919, Acc_train: 0.8874, Acc_val: 0.7280, Acc_test: 0.6980\n",
            "Epoch: 20, Loss: 0.9705, Acc_train: 0.8924, Acc_val: 0.7320, Acc_test: 0.7100\n",
            "Epoch: 21, Loss: 0.9507, Acc_train: 0.8965, Acc_val: 0.7380, Acc_test: 0.7200\n",
            "Epoch: 22, Loss: 0.9332, Acc_train: 0.8957, Acc_val: 0.7460, Acc_test: 0.7230\n",
            "Epoch: 23, Loss: 0.9210, Acc_train: 0.8982, Acc_val: 0.7560, Acc_test: 0.7330\n",
            "Epoch: 24, Loss: 0.9104, Acc_train: 0.8957, Acc_val: 0.7540, Acc_test: 0.7380\n",
            "Epoch: 25, Loss: 0.8991, Acc_train: 0.9007, Acc_val: 0.7700, Acc_test: 0.7430\n",
            "Epoch: 26, Loss: 0.8931, Acc_train: 0.8965, Acc_val: 0.7740, Acc_test: 0.7430\n",
            "Epoch: 27, Loss: 0.8848, Acc_train: 0.9007, Acc_val: 0.7800, Acc_test: 0.7520\n",
            "Epoch: 28, Loss: 0.8792, Acc_train: 0.9015, Acc_val: 0.7860, Acc_test: 0.7550\n",
            "Epoch: 29, Loss: 0.8755, Acc_train: 0.9007, Acc_val: 0.7860, Acc_test: 0.7630\n",
            "Epoch: 30, Loss: 0.8694, Acc_train: 0.9023, Acc_val: 0.7900, Acc_test: 0.7610\n",
            "Epoch: 31, Loss: 0.8664, Acc_train: 0.9023, Acc_val: 0.7860, Acc_test: 0.7740\n",
            "Epoch: 32, Loss: 0.8608, Acc_train: 0.8982, Acc_val: 0.7900, Acc_test: 0.7760\n",
            "Epoch: 33, Loss: 0.8600, Acc_train: 0.9031, Acc_val: 0.7880, Acc_test: 0.7810\n",
            "Epoch: 34, Loss: 0.8557, Acc_train: 0.8998, Acc_val: 0.7980, Acc_test: 0.7820\n",
            "Epoch: 35, Loss: 0.8537, Acc_train: 0.9048, Acc_val: 0.8060, Acc_test: 0.7820\n",
            "Epoch: 36, Loss: 0.8529, Acc_train: 0.9007, Acc_val: 0.8060, Acc_test: 0.7840\n",
            "Epoch: 37, Loss: 0.8494, Acc_train: 0.9040, Acc_val: 0.8040, Acc_test: 0.7900\n",
            "Epoch: 38, Loss: 0.8465, Acc_train: 0.9031, Acc_val: 0.8100, Acc_test: 0.7920\n",
            "Epoch: 39, Loss: 0.8450, Acc_train: 0.9023, Acc_val: 0.8060, Acc_test: 0.7920\n",
            "SETTING SEEDS TO:  170173784\n",
            "Epoch: 01, Loss: 8.1242, Acc_train: 0.4719, Acc_val: 0.2760, Acc_test: 0.2410\n",
            "Epoch: 02, Loss: 6.0816, Acc_train: 0.5306, Acc_val: 0.3040, Acc_test: 0.2830\n",
            "Epoch: 03, Loss: 4.9617, Acc_train: 0.5869, Acc_val: 0.3440, Acc_test: 0.3280\n",
            "Epoch: 04, Loss: 4.1331, Acc_train: 0.6308, Acc_val: 0.3760, Acc_test: 0.3790\n",
            "Epoch: 05, Loss: 3.4814, Acc_train: 0.6796, Acc_val: 0.4160, Acc_test: 0.4290\n",
            "Epoch: 06, Loss: 2.9687, Acc_train: 0.7152, Acc_val: 0.4660, Acc_test: 0.4550\n",
            "Epoch: 07, Loss: 2.5487, Acc_train: 0.7508, Acc_val: 0.5200, Acc_test: 0.4920\n",
            "Epoch: 08, Loss: 2.2225, Acc_train: 0.7740, Acc_val: 0.5440, Acc_test: 0.5230\n",
            "Epoch: 09, Loss: 1.9552, Acc_train: 0.7914, Acc_val: 0.5760, Acc_test: 0.5410\n",
            "Epoch: 10, Loss: 1.7424, Acc_train: 0.8137, Acc_val: 0.5860, Acc_test: 0.5670\n",
            "Epoch: 11, Loss: 1.5695, Acc_train: 0.8262, Acc_val: 0.6040, Acc_test: 0.5810\n",
            "Epoch: 12, Loss: 1.4311, Acc_train: 0.8411, Acc_val: 0.6400, Acc_test: 0.5980\n",
            "Epoch: 13, Loss: 1.3198, Acc_train: 0.8518, Acc_val: 0.6680, Acc_test: 0.6180\n",
            "Epoch: 14, Loss: 1.2301, Acc_train: 0.8626, Acc_val: 0.6820, Acc_test: 0.6440\n",
            "Epoch: 15, Loss: 1.1603, Acc_train: 0.8667, Acc_val: 0.6900, Acc_test: 0.6590\n",
            "Epoch: 16, Loss: 1.1039, Acc_train: 0.8758, Acc_val: 0.6920, Acc_test: 0.6740\n",
            "Epoch: 17, Loss: 1.0605, Acc_train: 0.8825, Acc_val: 0.7080, Acc_test: 0.6820\n",
            "Epoch: 18, Loss: 1.0246, Acc_train: 0.8891, Acc_val: 0.7200, Acc_test: 0.6890\n",
            "Epoch: 19, Loss: 0.9953, Acc_train: 0.8932, Acc_val: 0.7360, Acc_test: 0.7060\n",
            "Epoch: 20, Loss: 0.9712, Acc_train: 0.8949, Acc_val: 0.7420, Acc_test: 0.7040\n",
            "Epoch: 21, Loss: 0.9497, Acc_train: 0.8965, Acc_val: 0.7460, Acc_test: 0.7060\n",
            "Epoch: 22, Loss: 0.9358, Acc_train: 0.9040, Acc_val: 0.7620, Acc_test: 0.7220\n",
            "Epoch: 23, Loss: 0.9226, Acc_train: 0.9089, Acc_val: 0.7580, Acc_test: 0.7260\n",
            "Epoch: 24, Loss: 0.9128, Acc_train: 0.9123, Acc_val: 0.7640, Acc_test: 0.7360\n",
            "Epoch: 25, Loss: 0.9032, Acc_train: 0.9164, Acc_val: 0.7620, Acc_test: 0.7360\n",
            "Epoch: 26, Loss: 0.8936, Acc_train: 0.9205, Acc_val: 0.7780, Acc_test: 0.7410\n",
            "Epoch: 27, Loss: 0.8863, Acc_train: 0.9180, Acc_val: 0.7820, Acc_test: 0.7430\n",
            "Epoch: 28, Loss: 0.8819, Acc_train: 0.9172, Acc_val: 0.7760, Acc_test: 0.7450\n",
            "Epoch: 29, Loss: 0.8746, Acc_train: 0.9139, Acc_val: 0.7760, Acc_test: 0.7520\n",
            "Epoch: 30, Loss: 0.8700, Acc_train: 0.9131, Acc_val: 0.7740, Acc_test: 0.7590\n",
            "Epoch: 31, Loss: 0.8671, Acc_train: 0.9081, Acc_val: 0.7840, Acc_test: 0.7620\n",
            "Epoch: 32, Loss: 0.8624, Acc_train: 0.9089, Acc_val: 0.7860, Acc_test: 0.7630\n",
            "Epoch: 33, Loss: 0.8602, Acc_train: 0.9065, Acc_val: 0.7840, Acc_test: 0.7640\n",
            "Epoch: 34, Loss: 0.8555, Acc_train: 0.9106, Acc_val: 0.7940, Acc_test: 0.7670\n",
            "Epoch: 35, Loss: 0.8537, Acc_train: 0.9098, Acc_val: 0.7880, Acc_test: 0.7680\n",
            "Epoch: 36, Loss: 0.8517, Acc_train: 0.9098, Acc_val: 0.7900, Acc_test: 0.7670\n",
            "Epoch: 37, Loss: 0.8498, Acc_train: 0.9098, Acc_val: 0.7900, Acc_test: 0.7710\n",
            "Epoch: 38, Loss: 0.8481, Acc_train: 0.9023, Acc_val: 0.7820, Acc_test: 0.7790\n",
            "Epoch: 39, Loss: 0.8456, Acc_train: 0.9048, Acc_val: 0.7860, Acc_test: 0.7810\n",
            "SETTING SEEDS TO:  2342954646\n",
            "Epoch: 01, Loss: 8.1270, Acc_train: 0.4694, Acc_val: 0.2460, Acc_test: 0.2320\n",
            "Epoch: 02, Loss: 6.0755, Acc_train: 0.5166, Acc_val: 0.2900, Acc_test: 0.2790\n",
            "Epoch: 03, Loss: 4.9570, Acc_train: 0.5786, Acc_val: 0.3260, Acc_test: 0.3260\n",
            "Epoch: 04, Loss: 4.1335, Acc_train: 0.6341, Acc_val: 0.3820, Acc_test: 0.3840\n",
            "Epoch: 05, Loss: 3.4834, Acc_train: 0.6796, Acc_val: 0.4360, Acc_test: 0.4390\n",
            "Epoch: 06, Loss: 2.9684, Acc_train: 0.7276, Acc_val: 0.4800, Acc_test: 0.4730\n",
            "Epoch: 07, Loss: 2.5511, Acc_train: 0.7599, Acc_val: 0.4980, Acc_test: 0.4980\n",
            "Epoch: 08, Loss: 2.2260, Acc_train: 0.7856, Acc_val: 0.5220, Acc_test: 0.5100\n",
            "Epoch: 09, Loss: 1.9588, Acc_train: 0.8129, Acc_val: 0.5300, Acc_test: 0.5450\n",
            "Epoch: 10, Loss: 1.7466, Acc_train: 0.8195, Acc_val: 0.5600, Acc_test: 0.5620\n",
            "Epoch: 11, Loss: 1.5737, Acc_train: 0.8386, Acc_val: 0.5720, Acc_test: 0.5880\n",
            "Epoch: 12, Loss: 1.4368, Acc_train: 0.8444, Acc_val: 0.5960, Acc_test: 0.6140\n",
            "Epoch: 13, Loss: 1.3245, Acc_train: 0.8560, Acc_val: 0.6060, Acc_test: 0.6370\n",
            "Epoch: 14, Loss: 1.2371, Acc_train: 0.8684, Acc_val: 0.6280, Acc_test: 0.6480\n",
            "Epoch: 15, Loss: 1.1631, Acc_train: 0.8733, Acc_val: 0.6660, Acc_test: 0.6590\n",
            "Epoch: 16, Loss: 1.1079, Acc_train: 0.8783, Acc_val: 0.6680, Acc_test: 0.6760\n",
            "Epoch: 17, Loss: 1.0645, Acc_train: 0.8841, Acc_val: 0.6740, Acc_test: 0.6850\n",
            "Epoch: 18, Loss: 1.0256, Acc_train: 0.8866, Acc_val: 0.6860, Acc_test: 0.6940\n",
            "Epoch: 19, Loss: 0.9992, Acc_train: 0.8949, Acc_val: 0.6980, Acc_test: 0.7090\n",
            "Epoch: 20, Loss: 0.9731, Acc_train: 0.8940, Acc_val: 0.7140, Acc_test: 0.7180\n",
            "Epoch: 21, Loss: 0.9546, Acc_train: 0.8982, Acc_val: 0.7160, Acc_test: 0.7270\n",
            "Epoch: 22, Loss: 0.9383, Acc_train: 0.9023, Acc_val: 0.7280, Acc_test: 0.7370\n",
            "Epoch: 23, Loss: 0.9226, Acc_train: 0.9040, Acc_val: 0.7380, Acc_test: 0.7340\n",
            "Epoch: 24, Loss: 0.9121, Acc_train: 0.9089, Acc_val: 0.7360, Acc_test: 0.7400\n",
            "Epoch: 25, Loss: 0.9029, Acc_train: 0.9065, Acc_val: 0.7360, Acc_test: 0.7490\n",
            "Epoch: 26, Loss: 0.8951, Acc_train: 0.9131, Acc_val: 0.7420, Acc_test: 0.7490\n",
            "Epoch: 27, Loss: 0.8883, Acc_train: 0.9139, Acc_val: 0.7500, Acc_test: 0.7570\n",
            "Epoch: 28, Loss: 0.8820, Acc_train: 0.9147, Acc_val: 0.7520, Acc_test: 0.7570\n",
            "Epoch: 29, Loss: 0.8754, Acc_train: 0.9123, Acc_val: 0.7580, Acc_test: 0.7570\n",
            "Epoch: 30, Loss: 0.8710, Acc_train: 0.9131, Acc_val: 0.7680, Acc_test: 0.7640\n",
            "Epoch: 31, Loss: 0.8674, Acc_train: 0.9156, Acc_val: 0.7800, Acc_test: 0.7690\n",
            "Epoch: 32, Loss: 0.8620, Acc_train: 0.9156, Acc_val: 0.7680, Acc_test: 0.7690\n",
            "Epoch: 33, Loss: 0.8603, Acc_train: 0.9139, Acc_val: 0.7640, Acc_test: 0.7650\n",
            "Epoch: 34, Loss: 0.8580, Acc_train: 0.9081, Acc_val: 0.7740, Acc_test: 0.7680\n",
            "Epoch: 35, Loss: 0.8558, Acc_train: 0.9089, Acc_val: 0.7700, Acc_test: 0.7680\n",
            "Epoch: 36, Loss: 0.8527, Acc_train: 0.9056, Acc_val: 0.7740, Acc_test: 0.7760\n",
            "Epoch: 37, Loss: 0.8509, Acc_train: 0.9073, Acc_val: 0.7780, Acc_test: 0.7750\n",
            "Epoch: 38, Loss: 0.8482, Acc_train: 0.9081, Acc_val: 0.7860, Acc_test: 0.7790\n",
            "Epoch: 39, Loss: 0.8454, Acc_train: 0.9089, Acc_val: 0.7960, Acc_test: 0.7820\n",
            "SETTING SEEDS TO:  116846604\n",
            "Epoch: 01, Loss: 8.0410, Acc_train: 0.4578, Acc_val: 0.2340, Acc_test: 0.2260\n",
            "Epoch: 02, Loss: 6.0012, Acc_train: 0.5008, Acc_val: 0.2660, Acc_test: 0.2920\n",
            "Epoch: 03, Loss: 4.9006, Acc_train: 0.5621, Acc_val: 0.3180, Acc_test: 0.3440\n",
            "Epoch: 04, Loss: 4.0851, Acc_train: 0.6068, Acc_val: 0.3800, Acc_test: 0.3970\n",
            "Epoch: 05, Loss: 3.4457, Acc_train: 0.6490, Acc_val: 0.4140, Acc_test: 0.4460\n",
            "Epoch: 06, Loss: 2.9260, Acc_train: 0.6929, Acc_val: 0.4760, Acc_test: 0.4690\n",
            "Epoch: 07, Loss: 2.5122, Acc_train: 0.7326, Acc_val: 0.5060, Acc_test: 0.4940\n",
            "Epoch: 08, Loss: 2.1925, Acc_train: 0.7483, Acc_val: 0.5240, Acc_test: 0.5270\n",
            "Epoch: 09, Loss: 1.9326, Acc_train: 0.7682, Acc_val: 0.5740, Acc_test: 0.5520\n",
            "Epoch: 10, Loss: 1.7218, Acc_train: 0.7864, Acc_val: 0.5980, Acc_test: 0.5630\n",
            "Epoch: 11, Loss: 1.5512, Acc_train: 0.7972, Acc_val: 0.6160, Acc_test: 0.5830\n",
            "Epoch: 12, Loss: 1.4191, Acc_train: 0.8079, Acc_val: 0.6160, Acc_test: 0.6100\n",
            "Epoch: 13, Loss: 1.3095, Acc_train: 0.8237, Acc_val: 0.6280, Acc_test: 0.6230\n",
            "Epoch: 14, Loss: 1.2257, Acc_train: 0.8295, Acc_val: 0.6360, Acc_test: 0.6420\n",
            "Epoch: 15, Loss: 1.1550, Acc_train: 0.8411, Acc_val: 0.6480, Acc_test: 0.6470\n",
            "Epoch: 16, Loss: 1.0979, Acc_train: 0.8477, Acc_val: 0.6600, Acc_test: 0.6700\n",
            "Epoch: 17, Loss: 1.0552, Acc_train: 0.8593, Acc_val: 0.6780, Acc_test: 0.6820\n",
            "Epoch: 18, Loss: 1.0207, Acc_train: 0.8717, Acc_val: 0.6780, Acc_test: 0.6980\n",
            "Epoch: 19, Loss: 0.9916, Acc_train: 0.8808, Acc_val: 0.6940, Acc_test: 0.7050\n",
            "Epoch: 20, Loss: 0.9680, Acc_train: 0.8800, Acc_val: 0.6980, Acc_test: 0.7190\n",
            "Epoch: 21, Loss: 0.9483, Acc_train: 0.8891, Acc_val: 0.7020, Acc_test: 0.7220\n",
            "Epoch: 22, Loss: 0.9343, Acc_train: 0.8891, Acc_val: 0.7000, Acc_test: 0.7250\n",
            "Epoch: 23, Loss: 0.9200, Acc_train: 0.8924, Acc_val: 0.7040, Acc_test: 0.7340\n",
            "Epoch: 24, Loss: 0.9097, Acc_train: 0.8940, Acc_val: 0.7120, Acc_test: 0.7400\n",
            "Epoch: 25, Loss: 0.9003, Acc_train: 0.8949, Acc_val: 0.7320, Acc_test: 0.7510\n",
            "Epoch: 26, Loss: 0.8925, Acc_train: 0.8957, Acc_val: 0.7480, Acc_test: 0.7510\n",
            "Epoch: 27, Loss: 0.8848, Acc_train: 0.8965, Acc_val: 0.7480, Acc_test: 0.7550\n",
            "Epoch: 28, Loss: 0.8787, Acc_train: 0.8982, Acc_val: 0.7480, Acc_test: 0.7620\n",
            "Epoch: 29, Loss: 0.8733, Acc_train: 0.8957, Acc_val: 0.7460, Acc_test: 0.7620\n",
            "Epoch: 30, Loss: 0.8703, Acc_train: 0.8965, Acc_val: 0.7440, Acc_test: 0.7600\n",
            "Epoch: 31, Loss: 0.8647, Acc_train: 0.8990, Acc_val: 0.7500, Acc_test: 0.7630\n",
            "Epoch: 32, Loss: 0.8615, Acc_train: 0.9007, Acc_val: 0.7560, Acc_test: 0.7620\n",
            "Epoch: 33, Loss: 0.8581, Acc_train: 0.9023, Acc_val: 0.7740, Acc_test: 0.7630\n",
            "Epoch: 34, Loss: 0.8574, Acc_train: 0.9031, Acc_val: 0.7740, Acc_test: 0.7690\n",
            "Epoch: 35, Loss: 0.8544, Acc_train: 0.9023, Acc_val: 0.7680, Acc_test: 0.7680\n",
            "Epoch: 36, Loss: 0.8520, Acc_train: 0.9031, Acc_val: 0.7720, Acc_test: 0.7700\n",
            "Epoch: 37, Loss: 0.8497, Acc_train: 0.9031, Acc_val: 0.7820, Acc_test: 0.7690\n",
            "Epoch: 38, Loss: 0.8467, Acc_train: 0.8990, Acc_val: 0.7740, Acc_test: 0.7680\n",
            "Epoch: 39, Loss: 0.8460, Acc_train: 0.9015, Acc_val: 0.7820, Acc_test: 0.7730\n",
            "SETTING SEEDS TO:  2105922959\n",
            "Epoch: 01, Loss: 8.1132, Acc_train: 0.4801, Acc_val: 0.2600, Acc_test: 0.2280\n",
            "Epoch: 02, Loss: 6.0764, Acc_train: 0.5381, Acc_val: 0.3100, Acc_test: 0.2850\n",
            "Epoch: 03, Loss: 4.9590, Acc_train: 0.5919, Acc_val: 0.3520, Acc_test: 0.3390\n",
            "Epoch: 04, Loss: 4.1338, Acc_train: 0.6432, Acc_val: 0.3920, Acc_test: 0.3950\n",
            "Epoch: 05, Loss: 3.4768, Acc_train: 0.6879, Acc_val: 0.4380, Acc_test: 0.4340\n",
            "Epoch: 06, Loss: 2.9542, Acc_train: 0.7351, Acc_val: 0.4880, Acc_test: 0.4720\n",
            "Epoch: 07, Loss: 2.5350, Acc_train: 0.7715, Acc_val: 0.5520, Acc_test: 0.4900\n",
            "Epoch: 08, Loss: 2.2072, Acc_train: 0.7980, Acc_val: 0.5820, Acc_test: 0.5160\n",
            "Epoch: 09, Loss: 1.9468, Acc_train: 0.8204, Acc_val: 0.6020, Acc_test: 0.5470\n",
            "Epoch: 10, Loss: 1.7350, Acc_train: 0.8320, Acc_val: 0.6340, Acc_test: 0.5660\n",
            "Epoch: 11, Loss: 1.5653, Acc_train: 0.8560, Acc_val: 0.6520, Acc_test: 0.5940\n",
            "Epoch: 12, Loss: 1.4256, Acc_train: 0.8659, Acc_val: 0.6740, Acc_test: 0.6230\n",
            "Epoch: 13, Loss: 1.3140, Acc_train: 0.8733, Acc_val: 0.6800, Acc_test: 0.6400\n",
            "Epoch: 14, Loss: 1.2275, Acc_train: 0.8742, Acc_val: 0.6900, Acc_test: 0.6540\n",
            "Epoch: 15, Loss: 1.1565, Acc_train: 0.8816, Acc_val: 0.7060, Acc_test: 0.6570\n",
            "Epoch: 16, Loss: 1.1011, Acc_train: 0.8849, Acc_val: 0.7100, Acc_test: 0.6740\n",
            "Epoch: 17, Loss: 1.0587, Acc_train: 0.8949, Acc_val: 0.7160, Acc_test: 0.6890\n",
            "Epoch: 18, Loss: 1.0226, Acc_train: 0.8982, Acc_val: 0.7220, Acc_test: 0.7080\n",
            "Epoch: 19, Loss: 0.9930, Acc_train: 0.8949, Acc_val: 0.7280, Acc_test: 0.7100\n",
            "Epoch: 20, Loss: 0.9695, Acc_train: 0.8982, Acc_val: 0.7380, Acc_test: 0.7190\n",
            "Epoch: 21, Loss: 0.9507, Acc_train: 0.8990, Acc_val: 0.7520, Acc_test: 0.7280\n",
            "Epoch: 22, Loss: 0.9337, Acc_train: 0.9048, Acc_val: 0.7620, Acc_test: 0.7430\n",
            "Epoch: 23, Loss: 0.9207, Acc_train: 0.9073, Acc_val: 0.7660, Acc_test: 0.7460\n",
            "Epoch: 24, Loss: 0.9080, Acc_train: 0.9081, Acc_val: 0.7600, Acc_test: 0.7570\n",
            "Epoch: 25, Loss: 0.8998, Acc_train: 0.9081, Acc_val: 0.7680, Acc_test: 0.7630\n",
            "Epoch: 26, Loss: 0.8917, Acc_train: 0.9048, Acc_val: 0.7680, Acc_test: 0.7660\n",
            "Epoch: 27, Loss: 0.8836, Acc_train: 0.9081, Acc_val: 0.7760, Acc_test: 0.7650\n",
            "Epoch: 28, Loss: 0.8781, Acc_train: 0.9106, Acc_val: 0.7780, Acc_test: 0.7700\n",
            "Epoch: 29, Loss: 0.8726, Acc_train: 0.9081, Acc_val: 0.7880, Acc_test: 0.7730\n",
            "Epoch: 30, Loss: 0.8681, Acc_train: 0.9056, Acc_val: 0.7880, Acc_test: 0.7750\n",
            "Epoch: 31, Loss: 0.8644, Acc_train: 0.9065, Acc_val: 0.7820, Acc_test: 0.7820\n",
            "Epoch: 32, Loss: 0.8608, Acc_train: 0.9015, Acc_val: 0.7940, Acc_test: 0.7790\n",
            "Epoch: 33, Loss: 0.8574, Acc_train: 0.9065, Acc_val: 0.7960, Acc_test: 0.7790\n",
            "Epoch: 34, Loss: 0.8538, Acc_train: 0.9081, Acc_val: 0.8060, Acc_test: 0.7830\n",
            "Epoch: 35, Loss: 0.8524, Acc_train: 0.9089, Acc_val: 0.8020, Acc_test: 0.7880\n",
            "Epoch: 36, Loss: 0.8513, Acc_train: 0.9114, Acc_val: 0.8040, Acc_test: 0.7870\n",
            "Epoch: 37, Loss: 0.8483, Acc_train: 0.9139, Acc_val: 0.8100, Acc_test: 0.7840\n",
            "Epoch: 38, Loss: 0.8461, Acc_train: 0.9089, Acc_val: 0.8200, Acc_test: 0.7850\n",
            "Epoch: 39, Loss: 0.8453, Acc_train: 0.9040, Acc_val: 0.8220, Acc_test: 0.7950\n",
            "SETTING SEEDS TO:  2739899259\n",
            "Epoch: 01, Loss: 8.1020, Acc_train: 0.4528, Acc_val: 0.2360, Acc_test: 0.2330\n",
            "Epoch: 02, Loss: 6.0760, Acc_train: 0.5008, Acc_val: 0.2760, Acc_test: 0.2900\n",
            "Epoch: 03, Loss: 4.9702, Acc_train: 0.5613, Acc_val: 0.3440, Acc_test: 0.3370\n",
            "Epoch: 04, Loss: 4.1463, Acc_train: 0.6084, Acc_val: 0.3960, Acc_test: 0.3760\n",
            "Epoch: 05, Loss: 3.4922, Acc_train: 0.6531, Acc_val: 0.4280, Acc_test: 0.4190\n",
            "Epoch: 06, Loss: 2.9709, Acc_train: 0.7020, Acc_val: 0.4660, Acc_test: 0.4510\n",
            "Epoch: 07, Loss: 2.5535, Acc_train: 0.7343, Acc_val: 0.5080, Acc_test: 0.4930\n",
            "Epoch: 08, Loss: 2.2209, Acc_train: 0.7624, Acc_val: 0.5260, Acc_test: 0.5200\n",
            "Epoch: 09, Loss: 1.9564, Acc_train: 0.7906, Acc_val: 0.5400, Acc_test: 0.5400\n",
            "Epoch: 10, Loss: 1.7441, Acc_train: 0.8030, Acc_val: 0.5640, Acc_test: 0.5620\n",
            "Epoch: 11, Loss: 1.5715, Acc_train: 0.8171, Acc_val: 0.5840, Acc_test: 0.5890\n",
            "Epoch: 12, Loss: 1.4316, Acc_train: 0.8361, Acc_val: 0.6100, Acc_test: 0.6090\n",
            "Epoch: 13, Loss: 1.3197, Acc_train: 0.8485, Acc_val: 0.6460, Acc_test: 0.6290\n",
            "Epoch: 14, Loss: 1.2325, Acc_train: 0.8568, Acc_val: 0.6600, Acc_test: 0.6510\n",
            "Epoch: 15, Loss: 1.1624, Acc_train: 0.8642, Acc_val: 0.6820, Acc_test: 0.6570\n",
            "Epoch: 16, Loss: 1.1037, Acc_train: 0.8692, Acc_val: 0.6940, Acc_test: 0.6830\n",
            "Epoch: 17, Loss: 1.0616, Acc_train: 0.8808, Acc_val: 0.7040, Acc_test: 0.7020\n",
            "Epoch: 18, Loss: 1.0246, Acc_train: 0.8816, Acc_val: 0.7180, Acc_test: 0.7070\n",
            "Epoch: 19, Loss: 0.9959, Acc_train: 0.8874, Acc_val: 0.7320, Acc_test: 0.7110\n"
          ]
        },
        {
          "output_type": "error",
          "ename": "KeyboardInterrupt",
          "evalue": "ignored",
          "traceback": [
            "\u001b[0;31m---------------------------------------------------------------------------\u001b[0m",
            "\u001b[0;31mKeyboardInterrupt\u001b[0m                         Traceback (most recent call last)",
            "\u001b[0;32m<ipython-input-15-6000005b2698>\u001b[0m in \u001b[0;36m<module>\u001b[0;34m\u001b[0m\n\u001b[1;32m     80\u001b[0m   \u001b[0;32mfor\u001b[0m \u001b[0mepoch\u001b[0m \u001b[0;32min\u001b[0m \u001b[0mrange\u001b[0m\u001b[0;34m(\u001b[0m\u001b[0;36m1\u001b[0m\u001b[0;34m,\u001b[0m \u001b[0;36m40\u001b[0m\u001b[0;34m)\u001b[0m\u001b[0;34m:\u001b[0m\u001b[0;34m\u001b[0m\u001b[0;34m\u001b[0m\u001b[0m\n\u001b[1;32m     81\u001b[0m     \u001b[0mloss\u001b[0m \u001b[0;34m=\u001b[0m \u001b[0mtrain\u001b[0m\u001b[0;34m(\u001b[0m\u001b[0;34m)\u001b[0m\u001b[0;34m\u001b[0m\u001b[0;34m\u001b[0m\u001b[0m\n\u001b[0;32m---> 82\u001b[0;31m     \u001b[0macc_train\u001b[0m\u001b[0;34m,\u001b[0m \u001b[0macc_val\u001b[0m\u001b[0;34m,\u001b[0m \u001b[0macc_test\u001b[0m\u001b[0;34m,\u001b[0m \u001b[0mloss_train\u001b[0m\u001b[0;34m,\u001b[0m \u001b[0mloss_val\u001b[0m\u001b[0;34m,\u001b[0m \u001b[0mloss_test\u001b[0m \u001b[0;34m=\u001b[0m \u001b[0mtest\u001b[0m\u001b[0;34m(\u001b[0m\u001b[0;34m)\u001b[0m\u001b[0;34m\u001b[0m\u001b[0;34m\u001b[0m\u001b[0m\n\u001b[0m\u001b[1;32m     83\u001b[0m     \u001b[0mprint\u001b[0m\u001b[0;34m(\u001b[0m\u001b[0;34mf'Epoch: {epoch:02d}, Loss: {loss:.4f}, Acc_train: {acc_train:.4f}, Acc_val: {acc_val:.4f}, Acc_test: {acc_test:.4f}'\u001b[0m\u001b[0;34m)\u001b[0m\u001b[0;34m\u001b[0m\u001b[0;34m\u001b[0m\u001b[0m\n\u001b[1;32m     84\u001b[0m \u001b[0;34m\u001b[0m\u001b[0m\n",
            "\u001b[0;32m/usr/local/lib/python3.8/dist-packages/torch/autograd/grad_mode.py\u001b[0m in \u001b[0;36mdecorate_context\u001b[0;34m(*args, **kwargs)\u001b[0m\n\u001b[1;32m     25\u001b[0m         \u001b[0;32mdef\u001b[0m \u001b[0mdecorate_context\u001b[0m\u001b[0;34m(\u001b[0m\u001b[0;34m*\u001b[0m\u001b[0margs\u001b[0m\u001b[0;34m,\u001b[0m \u001b[0;34m**\u001b[0m\u001b[0mkwargs\u001b[0m\u001b[0;34m)\u001b[0m\u001b[0;34m:\u001b[0m\u001b[0;34m\u001b[0m\u001b[0;34m\u001b[0m\u001b[0m\n\u001b[1;32m     26\u001b[0m             \u001b[0;32mwith\u001b[0m \u001b[0mself\u001b[0m\u001b[0;34m.\u001b[0m\u001b[0mclone\u001b[0m\u001b[0;34m(\u001b[0m\u001b[0;34m)\u001b[0m\u001b[0;34m:\u001b[0m\u001b[0;34m\u001b[0m\u001b[0;34m\u001b[0m\u001b[0m\n\u001b[0;32m---> 27\u001b[0;31m                 \u001b[0;32mreturn\u001b[0m \u001b[0mfunc\u001b[0m\u001b[0;34m(\u001b[0m\u001b[0;34m*\u001b[0m\u001b[0margs\u001b[0m\u001b[0;34m,\u001b[0m \u001b[0;34m**\u001b[0m\u001b[0mkwargs\u001b[0m\u001b[0;34m)\u001b[0m\u001b[0;34m\u001b[0m\u001b[0;34m\u001b[0m\u001b[0m\n\u001b[0m\u001b[1;32m     28\u001b[0m         \u001b[0;32mreturn\u001b[0m \u001b[0mcast\u001b[0m\u001b[0;34m(\u001b[0m\u001b[0mF\u001b[0m\u001b[0;34m,\u001b[0m \u001b[0mdecorate_context\u001b[0m\u001b[0;34m)\u001b[0m\u001b[0;34m\u001b[0m\u001b[0;34m\u001b[0m\u001b[0m\n\u001b[1;32m     29\u001b[0m \u001b[0;34m\u001b[0m\u001b[0m\n",
            "\u001b[0;32m<ipython-input-15-6000005b2698>\u001b[0m in \u001b[0;36mtest\u001b[0;34m()\u001b[0m\n\u001b[1;32m     59\u001b[0m                       \u001b[0mz\u001b[0m\u001b[0;34m[\u001b[0m\u001b[0mcora_data\u001b[0m\u001b[0;34m.\u001b[0m\u001b[0mtrain_mask\u001b[0m\u001b[0;34m]\u001b[0m\u001b[0;34m,\u001b[0m \u001b[0mcora_data\u001b[0m\u001b[0;34m.\u001b[0m\u001b[0my\u001b[0m\u001b[0;34m[\u001b[0m\u001b[0mcora_data\u001b[0m\u001b[0;34m.\u001b[0m\u001b[0mtrain_mask\u001b[0m\u001b[0;34m]\u001b[0m\u001b[0;34m,\u001b[0m\u001b[0;34m\u001b[0m\u001b[0;34m\u001b[0m\u001b[0m\n\u001b[1;32m     60\u001b[0m                       max_iter=150)\n\u001b[0;32m---> 61\u001b[0;31m     acc_val = model.test(z[cora_data.train_mask], cora_data.y[cora_data.train_mask],\n\u001b[0m\u001b[1;32m     62\u001b[0m                       \u001b[0mz\u001b[0m\u001b[0;34m[\u001b[0m\u001b[0mcora_data\u001b[0m\u001b[0;34m.\u001b[0m\u001b[0mval_mask\u001b[0m\u001b[0;34m]\u001b[0m\u001b[0;34m,\u001b[0m \u001b[0mcora_data\u001b[0m\u001b[0;34m.\u001b[0m\u001b[0my\u001b[0m\u001b[0;34m[\u001b[0m\u001b[0mcora_data\u001b[0m\u001b[0;34m.\u001b[0m\u001b[0mval_mask\u001b[0m\u001b[0;34m]\u001b[0m\u001b[0;34m,\u001b[0m\u001b[0;34m\u001b[0m\u001b[0;34m\u001b[0m\u001b[0m\n\u001b[1;32m     63\u001b[0m                       max_iter=150)\n",
            "\u001b[0;32m/usr/local/lib/python3.8/dist-packages/torch_geometric/nn/models/node2vec.py\u001b[0m in \u001b[0;36mtest\u001b[0;34m(self, train_z, train_y, test_z, test_y, solver, multi_class, *args, **kwargs)\u001b[0m\n\u001b[1;32m    173\u001b[0m         \u001b[0;32mfrom\u001b[0m \u001b[0msklearn\u001b[0m\u001b[0;34m.\u001b[0m\u001b[0mlinear_model\u001b[0m \u001b[0;32mimport\u001b[0m \u001b[0mLogisticRegression\u001b[0m\u001b[0;34m\u001b[0m\u001b[0;34m\u001b[0m\u001b[0m\n\u001b[1;32m    174\u001b[0m \u001b[0;34m\u001b[0m\u001b[0m\n\u001b[0;32m--> 175\u001b[0;31m         clf = LogisticRegression(solver=solver, multi_class=multi_class, *args,\n\u001b[0m\u001b[1;32m    176\u001b[0m                                  \u001b[0;34m**\u001b[0m\u001b[0mkwargs\u001b[0m\u001b[0;34m)\u001b[0m\u001b[0;34m.\u001b[0m\u001b[0mfit\u001b[0m\u001b[0;34m(\u001b[0m\u001b[0mtrain_z\u001b[0m\u001b[0;34m.\u001b[0m\u001b[0mdetach\u001b[0m\u001b[0;34m(\u001b[0m\u001b[0;34m)\u001b[0m\u001b[0;34m.\u001b[0m\u001b[0mcpu\u001b[0m\u001b[0;34m(\u001b[0m\u001b[0;34m)\u001b[0m\u001b[0;34m.\u001b[0m\u001b[0mnumpy\u001b[0m\u001b[0;34m(\u001b[0m\u001b[0;34m)\u001b[0m\u001b[0;34m,\u001b[0m\u001b[0;34m\u001b[0m\u001b[0;34m\u001b[0m\u001b[0m\n\u001b[1;32m    177\u001b[0m                                                train_y.detach().cpu().numpy())\n",
            "\u001b[0;32m/usr/local/lib/python3.8/dist-packages/sklearn/linear_model/_logistic.py\u001b[0m in \u001b[0;36mfit\u001b[0;34m(self, X, y, sample_weight)\u001b[0m\n\u001b[1;32m   1289\u001b[0m             \u001b[0mn_threads\u001b[0m \u001b[0;34m=\u001b[0m \u001b[0;36m1\u001b[0m\u001b[0;34m\u001b[0m\u001b[0;34m\u001b[0m\u001b[0m\n\u001b[1;32m   1290\u001b[0m \u001b[0;34m\u001b[0m\u001b[0m\n\u001b[0;32m-> 1291\u001b[0;31m         fold_coefs_ = Parallel(n_jobs=self.n_jobs, verbose=self.verbose, prefer=prefer)(\n\u001b[0m\u001b[1;32m   1292\u001b[0m             path_func(\n\u001b[1;32m   1293\u001b[0m                 \u001b[0mX\u001b[0m\u001b[0;34m,\u001b[0m\u001b[0;34m\u001b[0m\u001b[0;34m\u001b[0m\u001b[0m\n",
            "\u001b[0;32m/usr/local/lib/python3.8/dist-packages/sklearn/utils/parallel.py\u001b[0m in \u001b[0;36m__call__\u001b[0;34m(self, iterable)\u001b[0m\n\u001b[1;32m     61\u001b[0m             \u001b[0;32mfor\u001b[0m \u001b[0mdelayed_func\u001b[0m\u001b[0;34m,\u001b[0m \u001b[0margs\u001b[0m\u001b[0;34m,\u001b[0m \u001b[0mkwargs\u001b[0m \u001b[0;32min\u001b[0m \u001b[0miterable\u001b[0m\u001b[0;34m\u001b[0m\u001b[0;34m\u001b[0m\u001b[0m\n\u001b[1;32m     62\u001b[0m         )\n\u001b[0;32m---> 63\u001b[0;31m         \u001b[0;32mreturn\u001b[0m \u001b[0msuper\u001b[0m\u001b[0;34m(\u001b[0m\u001b[0;34m)\u001b[0m\u001b[0;34m.\u001b[0m\u001b[0m__call__\u001b[0m\u001b[0;34m(\u001b[0m\u001b[0miterable_with_config\u001b[0m\u001b[0;34m)\u001b[0m\u001b[0;34m\u001b[0m\u001b[0;34m\u001b[0m\u001b[0m\n\u001b[0m\u001b[1;32m     64\u001b[0m \u001b[0;34m\u001b[0m\u001b[0m\n\u001b[1;32m     65\u001b[0m \u001b[0;34m\u001b[0m\u001b[0m\n",
            "\u001b[0;32m/usr/local/lib/python3.8/dist-packages/joblib/parallel.py\u001b[0m in \u001b[0;36m__call__\u001b[0;34m(self, iterable)\u001b[0m\n\u001b[1;32m   1083\u001b[0m             \u001b[0;31m# remaining jobs.\u001b[0m\u001b[0;34m\u001b[0m\u001b[0;34m\u001b[0m\u001b[0;34m\u001b[0m\u001b[0m\n\u001b[1;32m   1084\u001b[0m             \u001b[0mself\u001b[0m\u001b[0;34m.\u001b[0m\u001b[0m_iterating\u001b[0m \u001b[0;34m=\u001b[0m \u001b[0;32mFalse\u001b[0m\u001b[0;34m\u001b[0m\u001b[0;34m\u001b[0m\u001b[0m\n\u001b[0;32m-> 1085\u001b[0;31m             \u001b[0;32mif\u001b[0m \u001b[0mself\u001b[0m\u001b[0;34m.\u001b[0m\u001b[0mdispatch_one_batch\u001b[0m\u001b[0;34m(\u001b[0m\u001b[0miterator\u001b[0m\u001b[0;34m)\u001b[0m\u001b[0;34m:\u001b[0m\u001b[0;34m\u001b[0m\u001b[0;34m\u001b[0m\u001b[0m\n\u001b[0m\u001b[1;32m   1086\u001b[0m                 \u001b[0mself\u001b[0m\u001b[0;34m.\u001b[0m\u001b[0m_iterating\u001b[0m \u001b[0;34m=\u001b[0m \u001b[0mself\u001b[0m\u001b[0;34m.\u001b[0m\u001b[0m_original_iterator\u001b[0m \u001b[0;32mis\u001b[0m \u001b[0;32mnot\u001b[0m \u001b[0;32mNone\u001b[0m\u001b[0;34m\u001b[0m\u001b[0;34m\u001b[0m\u001b[0m\n\u001b[1;32m   1087\u001b[0m \u001b[0;34m\u001b[0m\u001b[0m\n",
            "\u001b[0;32m/usr/local/lib/python3.8/dist-packages/joblib/parallel.py\u001b[0m in \u001b[0;36mdispatch_one_batch\u001b[0;34m(self, iterator)\u001b[0m\n\u001b[1;32m    899\u001b[0m                 \u001b[0;32mreturn\u001b[0m \u001b[0;32mFalse\u001b[0m\u001b[0;34m\u001b[0m\u001b[0;34m\u001b[0m\u001b[0m\n\u001b[1;32m    900\u001b[0m             \u001b[0;32melse\u001b[0m\u001b[0;34m:\u001b[0m\u001b[0;34m\u001b[0m\u001b[0;34m\u001b[0m\u001b[0m\n\u001b[0;32m--> 901\u001b[0;31m                 \u001b[0mself\u001b[0m\u001b[0;34m.\u001b[0m\u001b[0m_dispatch\u001b[0m\u001b[0;34m(\u001b[0m\u001b[0mtasks\u001b[0m\u001b[0;34m)\u001b[0m\u001b[0;34m\u001b[0m\u001b[0;34m\u001b[0m\u001b[0m\n\u001b[0m\u001b[1;32m    902\u001b[0m                 \u001b[0;32mreturn\u001b[0m \u001b[0;32mTrue\u001b[0m\u001b[0;34m\u001b[0m\u001b[0;34m\u001b[0m\u001b[0m\n\u001b[1;32m    903\u001b[0m \u001b[0;34m\u001b[0m\u001b[0m\n",
            "\u001b[0;32m/usr/local/lib/python3.8/dist-packages/joblib/parallel.py\u001b[0m in \u001b[0;36m_dispatch\u001b[0;34m(self, batch)\u001b[0m\n\u001b[1;32m    817\u001b[0m         \u001b[0;32mwith\u001b[0m \u001b[0mself\u001b[0m\u001b[0;34m.\u001b[0m\u001b[0m_lock\u001b[0m\u001b[0;34m:\u001b[0m\u001b[0;34m\u001b[0m\u001b[0;34m\u001b[0m\u001b[0m\n\u001b[1;32m    818\u001b[0m             \u001b[0mjob_idx\u001b[0m \u001b[0;34m=\u001b[0m \u001b[0mlen\u001b[0m\u001b[0;34m(\u001b[0m\u001b[0mself\u001b[0m\u001b[0;34m.\u001b[0m\u001b[0m_jobs\u001b[0m\u001b[0;34m)\u001b[0m\u001b[0;34m\u001b[0m\u001b[0;34m\u001b[0m\u001b[0m\n\u001b[0;32m--> 819\u001b[0;31m             \u001b[0mjob\u001b[0m \u001b[0;34m=\u001b[0m \u001b[0mself\u001b[0m\u001b[0;34m.\u001b[0m\u001b[0m_backend\u001b[0m\u001b[0;34m.\u001b[0m\u001b[0mapply_async\u001b[0m\u001b[0;34m(\u001b[0m\u001b[0mbatch\u001b[0m\u001b[0;34m,\u001b[0m \u001b[0mcallback\u001b[0m\u001b[0;34m=\u001b[0m\u001b[0mcb\u001b[0m\u001b[0;34m)\u001b[0m\u001b[0;34m\u001b[0m\u001b[0;34m\u001b[0m\u001b[0m\n\u001b[0m\u001b[1;32m    820\u001b[0m             \u001b[0;31m# A job can complete so quickly than its callback is\u001b[0m\u001b[0;34m\u001b[0m\u001b[0;34m\u001b[0m\u001b[0;34m\u001b[0m\u001b[0m\n\u001b[1;32m    821\u001b[0m             \u001b[0;31m# called before we get here, causing self._jobs to\u001b[0m\u001b[0;34m\u001b[0m\u001b[0;34m\u001b[0m\u001b[0;34m\u001b[0m\u001b[0m\n",
            "\u001b[0;32m/usr/local/lib/python3.8/dist-packages/joblib/_parallel_backends.py\u001b[0m in \u001b[0;36mapply_async\u001b[0;34m(self, func, callback)\u001b[0m\n\u001b[1;32m    206\u001b[0m     \u001b[0;32mdef\u001b[0m \u001b[0mapply_async\u001b[0m\u001b[0;34m(\u001b[0m\u001b[0mself\u001b[0m\u001b[0;34m,\u001b[0m \u001b[0mfunc\u001b[0m\u001b[0;34m,\u001b[0m \u001b[0mcallback\u001b[0m\u001b[0;34m=\u001b[0m\u001b[0;32mNone\u001b[0m\u001b[0;34m)\u001b[0m\u001b[0;34m:\u001b[0m\u001b[0;34m\u001b[0m\u001b[0;34m\u001b[0m\u001b[0m\n\u001b[1;32m    207\u001b[0m         \u001b[0;34m\"\"\"Schedule a func to be run\"\"\"\u001b[0m\u001b[0;34m\u001b[0m\u001b[0;34m\u001b[0m\u001b[0m\n\u001b[0;32m--> 208\u001b[0;31m         \u001b[0mresult\u001b[0m \u001b[0;34m=\u001b[0m \u001b[0mImmediateResult\u001b[0m\u001b[0;34m(\u001b[0m\u001b[0mfunc\u001b[0m\u001b[0;34m)\u001b[0m\u001b[0;34m\u001b[0m\u001b[0;34m\u001b[0m\u001b[0m\n\u001b[0m\u001b[1;32m    209\u001b[0m         \u001b[0;32mif\u001b[0m \u001b[0mcallback\u001b[0m\u001b[0;34m:\u001b[0m\u001b[0;34m\u001b[0m\u001b[0;34m\u001b[0m\u001b[0m\n\u001b[1;32m    210\u001b[0m             \u001b[0mcallback\u001b[0m\u001b[0;34m(\u001b[0m\u001b[0mresult\u001b[0m\u001b[0;34m)\u001b[0m\u001b[0;34m\u001b[0m\u001b[0;34m\u001b[0m\u001b[0m\n",
            "\u001b[0;32m/usr/local/lib/python3.8/dist-packages/joblib/_parallel_backends.py\u001b[0m in \u001b[0;36m__init__\u001b[0;34m(self, batch)\u001b[0m\n\u001b[1;32m    595\u001b[0m         \u001b[0;31m# Don't delay the application, to avoid keeping the input\u001b[0m\u001b[0;34m\u001b[0m\u001b[0;34m\u001b[0m\u001b[0;34m\u001b[0m\u001b[0m\n\u001b[1;32m    596\u001b[0m         \u001b[0;31m# arguments in memory\u001b[0m\u001b[0;34m\u001b[0m\u001b[0;34m\u001b[0m\u001b[0;34m\u001b[0m\u001b[0m\n\u001b[0;32m--> 597\u001b[0;31m         \u001b[0mself\u001b[0m\u001b[0;34m.\u001b[0m\u001b[0mresults\u001b[0m \u001b[0;34m=\u001b[0m \u001b[0mbatch\u001b[0m\u001b[0;34m(\u001b[0m\u001b[0;34m)\u001b[0m\u001b[0;34m\u001b[0m\u001b[0;34m\u001b[0m\u001b[0m\n\u001b[0m\u001b[1;32m    598\u001b[0m \u001b[0;34m\u001b[0m\u001b[0m\n\u001b[1;32m    599\u001b[0m     \u001b[0;32mdef\u001b[0m \u001b[0mget\u001b[0m\u001b[0;34m(\u001b[0m\u001b[0mself\u001b[0m\u001b[0;34m)\u001b[0m\u001b[0;34m:\u001b[0m\u001b[0;34m\u001b[0m\u001b[0;34m\u001b[0m\u001b[0m\n",
            "\u001b[0;32m/usr/local/lib/python3.8/dist-packages/joblib/parallel.py\u001b[0m in \u001b[0;36m__call__\u001b[0;34m(self)\u001b[0m\n\u001b[1;32m    286\u001b[0m         \u001b[0;31m# change the default number of processes to -1\u001b[0m\u001b[0;34m\u001b[0m\u001b[0;34m\u001b[0m\u001b[0;34m\u001b[0m\u001b[0m\n\u001b[1;32m    287\u001b[0m         \u001b[0;32mwith\u001b[0m \u001b[0mparallel_backend\u001b[0m\u001b[0;34m(\u001b[0m\u001b[0mself\u001b[0m\u001b[0;34m.\u001b[0m\u001b[0m_backend\u001b[0m\u001b[0;34m,\u001b[0m \u001b[0mn_jobs\u001b[0m\u001b[0;34m=\u001b[0m\u001b[0mself\u001b[0m\u001b[0;34m.\u001b[0m\u001b[0m_n_jobs\u001b[0m\u001b[0;34m)\u001b[0m\u001b[0;34m:\u001b[0m\u001b[0;34m\u001b[0m\u001b[0;34m\u001b[0m\u001b[0m\n\u001b[0;32m--> 288\u001b[0;31m             return [func(*args, **kwargs)\n\u001b[0m\u001b[1;32m    289\u001b[0m                     for func, args, kwargs in self.items]\n\u001b[1;32m    290\u001b[0m \u001b[0;34m\u001b[0m\u001b[0m\n",
            "\u001b[0;32m/usr/local/lib/python3.8/dist-packages/joblib/parallel.py\u001b[0m in \u001b[0;36m<listcomp>\u001b[0;34m(.0)\u001b[0m\n\u001b[1;32m    286\u001b[0m         \u001b[0;31m# change the default number of processes to -1\u001b[0m\u001b[0;34m\u001b[0m\u001b[0;34m\u001b[0m\u001b[0;34m\u001b[0m\u001b[0m\n\u001b[1;32m    287\u001b[0m         \u001b[0;32mwith\u001b[0m \u001b[0mparallel_backend\u001b[0m\u001b[0;34m(\u001b[0m\u001b[0mself\u001b[0m\u001b[0;34m.\u001b[0m\u001b[0m_backend\u001b[0m\u001b[0;34m,\u001b[0m \u001b[0mn_jobs\u001b[0m\u001b[0;34m=\u001b[0m\u001b[0mself\u001b[0m\u001b[0;34m.\u001b[0m\u001b[0m_n_jobs\u001b[0m\u001b[0;34m)\u001b[0m\u001b[0;34m:\u001b[0m\u001b[0;34m\u001b[0m\u001b[0;34m\u001b[0m\u001b[0m\n\u001b[0;32m--> 288\u001b[0;31m             return [func(*args, **kwargs)\n\u001b[0m\u001b[1;32m    289\u001b[0m                     for func, args, kwargs in self.items]\n\u001b[1;32m    290\u001b[0m \u001b[0;34m\u001b[0m\u001b[0m\n",
            "\u001b[0;32m/usr/local/lib/python3.8/dist-packages/sklearn/utils/parallel.py\u001b[0m in \u001b[0;36m__call__\u001b[0;34m(self, *args, **kwargs)\u001b[0m\n\u001b[1;32m    121\u001b[0m             \u001b[0mconfig\u001b[0m \u001b[0;34m=\u001b[0m \u001b[0;34m{\u001b[0m\u001b[0;34m}\u001b[0m\u001b[0;34m\u001b[0m\u001b[0;34m\u001b[0m\u001b[0m\n\u001b[1;32m    122\u001b[0m         \u001b[0;32mwith\u001b[0m \u001b[0mconfig_context\u001b[0m\u001b[0;34m(\u001b[0m\u001b[0;34m**\u001b[0m\u001b[0mconfig\u001b[0m\u001b[0;34m)\u001b[0m\u001b[0;34m:\u001b[0m\u001b[0;34m\u001b[0m\u001b[0;34m\u001b[0m\u001b[0m\n\u001b[0;32m--> 123\u001b[0;31m             \u001b[0;32mreturn\u001b[0m \u001b[0mself\u001b[0m\u001b[0;34m.\u001b[0m\u001b[0mfunction\u001b[0m\u001b[0;34m(\u001b[0m\u001b[0;34m*\u001b[0m\u001b[0margs\u001b[0m\u001b[0;34m,\u001b[0m \u001b[0;34m**\u001b[0m\u001b[0mkwargs\u001b[0m\u001b[0;34m)\u001b[0m\u001b[0;34m\u001b[0m\u001b[0;34m\u001b[0m\u001b[0m\n\u001b[0m",
            "\u001b[0;32m/usr/local/lib/python3.8/dist-packages/sklearn/linear_model/_logistic.py\u001b[0m in \u001b[0;36m_logistic_regression_path\u001b[0;34m(X, y, pos_class, Cs, fit_intercept, max_iter, tol, verbose, solver, coef, class_weight, dual, penalty, intercept_scaling, multi_class, random_state, check_input, max_squared_sum, sample_weight, l1_ratio, n_threads)\u001b[0m\n\u001b[1;32m    448\u001b[0m                 \u001b[0mnp\u001b[0m\u001b[0;34m.\u001b[0m\u001b[0msearchsorted\u001b[0m\u001b[0;34m(\u001b[0m\u001b[0mnp\u001b[0m\u001b[0;34m.\u001b[0m\u001b[0marray\u001b[0m\u001b[0;34m(\u001b[0m\u001b[0;34m[\u001b[0m\u001b[0;36m0\u001b[0m\u001b[0;34m,\u001b[0m \u001b[0;36m1\u001b[0m\u001b[0;34m,\u001b[0m \u001b[0;36m2\u001b[0m\u001b[0;34m,\u001b[0m \u001b[0;36m3\u001b[0m\u001b[0;34m]\u001b[0m\u001b[0;34m)\u001b[0m\u001b[0;34m,\u001b[0m \u001b[0mverbose\u001b[0m\u001b[0;34m)\u001b[0m\u001b[0;34m\u001b[0m\u001b[0;34m\u001b[0m\u001b[0m\n\u001b[1;32m    449\u001b[0m             ]\n\u001b[0;32m--> 450\u001b[0;31m             opt_res = optimize.minimize(\n\u001b[0m\u001b[1;32m    451\u001b[0m                 \u001b[0mfunc\u001b[0m\u001b[0;34m,\u001b[0m\u001b[0;34m\u001b[0m\u001b[0;34m\u001b[0m\u001b[0m\n\u001b[1;32m    452\u001b[0m                 \u001b[0mw0\u001b[0m\u001b[0;34m,\u001b[0m\u001b[0;34m\u001b[0m\u001b[0;34m\u001b[0m\u001b[0m\n",
            "\u001b[0;32m/usr/local/lib/python3.8/dist-packages/scipy/optimize/_minimize.py\u001b[0m in \u001b[0;36mminimize\u001b[0;34m(fun, x0, args, method, jac, hess, hessp, bounds, constraints, tol, callback, options)\u001b[0m\n\u001b[1;32m    694\u001b[0m                                  **options)\n\u001b[1;32m    695\u001b[0m     \u001b[0;32melif\u001b[0m \u001b[0mmeth\u001b[0m \u001b[0;34m==\u001b[0m \u001b[0;34m'l-bfgs-b'\u001b[0m\u001b[0;34m:\u001b[0m\u001b[0;34m\u001b[0m\u001b[0;34m\u001b[0m\u001b[0m\n\u001b[0;32m--> 696\u001b[0;31m         res = _minimize_lbfgsb(fun, x0, args, jac, bounds,\n\u001b[0m\u001b[1;32m    697\u001b[0m                                callback=callback, **options)\n\u001b[1;32m    698\u001b[0m     \u001b[0;32melif\u001b[0m \u001b[0mmeth\u001b[0m \u001b[0;34m==\u001b[0m \u001b[0;34m'tnc'\u001b[0m\u001b[0;34m:\u001b[0m\u001b[0;34m\u001b[0m\u001b[0;34m\u001b[0m\u001b[0m\n",
            "\u001b[0;32m/usr/local/lib/python3.8/dist-packages/scipy/optimize/_lbfgsb_py.py\u001b[0m in \u001b[0;36m_minimize_lbfgsb\u001b[0;34m(fun, x0, args, jac, bounds, disp, maxcor, ftol, gtol, eps, maxfun, maxiter, iprint, callback, maxls, finite_diff_rel_step, **unknown_options)\u001b[0m\n\u001b[1;32m    357\u001b[0m             \u001b[0;31m# until the completion of the current minimization iteration.\u001b[0m\u001b[0;34m\u001b[0m\u001b[0;34m\u001b[0m\u001b[0;34m\u001b[0m\u001b[0m\n\u001b[1;32m    358\u001b[0m             \u001b[0;31m# Overwrite f and g:\u001b[0m\u001b[0;34m\u001b[0m\u001b[0;34m\u001b[0m\u001b[0;34m\u001b[0m\u001b[0m\n\u001b[0;32m--> 359\u001b[0;31m             \u001b[0mf\u001b[0m\u001b[0;34m,\u001b[0m \u001b[0mg\u001b[0m \u001b[0;34m=\u001b[0m \u001b[0mfunc_and_grad\u001b[0m\u001b[0;34m(\u001b[0m\u001b[0mx\u001b[0m\u001b[0;34m)\u001b[0m\u001b[0;34m\u001b[0m\u001b[0;34m\u001b[0m\u001b[0m\n\u001b[0m\u001b[1;32m    360\u001b[0m         \u001b[0;32melif\u001b[0m \u001b[0mtask_str\u001b[0m\u001b[0;34m.\u001b[0m\u001b[0mstartswith\u001b[0m\u001b[0;34m(\u001b[0m\u001b[0;34mb'NEW_X'\u001b[0m\u001b[0;34m)\u001b[0m\u001b[0;34m:\u001b[0m\u001b[0;34m\u001b[0m\u001b[0;34m\u001b[0m\u001b[0m\n\u001b[1;32m    361\u001b[0m             \u001b[0;31m# new iteration\u001b[0m\u001b[0;34m\u001b[0m\u001b[0;34m\u001b[0m\u001b[0;34m\u001b[0m\u001b[0m\n",
            "\u001b[0;32m/usr/local/lib/python3.8/dist-packages/scipy/optimize/_differentiable_functions.py\u001b[0m in \u001b[0;36mfun_and_grad\u001b[0;34m(self, x)\u001b[0m\n\u001b[1;32m    283\u001b[0m         \u001b[0;32mif\u001b[0m \u001b[0;32mnot\u001b[0m \u001b[0mnp\u001b[0m\u001b[0;34m.\u001b[0m\u001b[0marray_equal\u001b[0m\u001b[0;34m(\u001b[0m\u001b[0mx\u001b[0m\u001b[0;34m,\u001b[0m \u001b[0mself\u001b[0m\u001b[0;34m.\u001b[0m\u001b[0mx\u001b[0m\u001b[0;34m)\u001b[0m\u001b[0;34m:\u001b[0m\u001b[0;34m\u001b[0m\u001b[0;34m\u001b[0m\u001b[0m\n\u001b[1;32m    284\u001b[0m             \u001b[0mself\u001b[0m\u001b[0;34m.\u001b[0m\u001b[0m_update_x_impl\u001b[0m\u001b[0;34m(\u001b[0m\u001b[0mx\u001b[0m\u001b[0;34m)\u001b[0m\u001b[0;34m\u001b[0m\u001b[0;34m\u001b[0m\u001b[0m\n\u001b[0;32m--> 285\u001b[0;31m         \u001b[0mself\u001b[0m\u001b[0;34m.\u001b[0m\u001b[0m_update_fun\u001b[0m\u001b[0;34m(\u001b[0m\u001b[0;34m)\u001b[0m\u001b[0;34m\u001b[0m\u001b[0;34m\u001b[0m\u001b[0m\n\u001b[0m\u001b[1;32m    286\u001b[0m         \u001b[0mself\u001b[0m\u001b[0;34m.\u001b[0m\u001b[0m_update_grad\u001b[0m\u001b[0;34m(\u001b[0m\u001b[0;34m)\u001b[0m\u001b[0;34m\u001b[0m\u001b[0;34m\u001b[0m\u001b[0m\n\u001b[1;32m    287\u001b[0m         \u001b[0;32mreturn\u001b[0m \u001b[0mself\u001b[0m\u001b[0;34m.\u001b[0m\u001b[0mf\u001b[0m\u001b[0;34m,\u001b[0m \u001b[0mself\u001b[0m\u001b[0;34m.\u001b[0m\u001b[0mg\u001b[0m\u001b[0;34m\u001b[0m\u001b[0;34m\u001b[0m\u001b[0m\n",
            "\u001b[0;32m/usr/local/lib/python3.8/dist-packages/scipy/optimize/_differentiable_functions.py\u001b[0m in \u001b[0;36m_update_fun\u001b[0;34m(self)\u001b[0m\n\u001b[1;32m    249\u001b[0m     \u001b[0;32mdef\u001b[0m \u001b[0m_update_fun\u001b[0m\u001b[0;34m(\u001b[0m\u001b[0mself\u001b[0m\u001b[0;34m)\u001b[0m\u001b[0;34m:\u001b[0m\u001b[0;34m\u001b[0m\u001b[0;34m\u001b[0m\u001b[0m\n\u001b[1;32m    250\u001b[0m         \u001b[0;32mif\u001b[0m \u001b[0;32mnot\u001b[0m \u001b[0mself\u001b[0m\u001b[0;34m.\u001b[0m\u001b[0mf_updated\u001b[0m\u001b[0;34m:\u001b[0m\u001b[0;34m\u001b[0m\u001b[0;34m\u001b[0m\u001b[0m\n\u001b[0;32m--> 251\u001b[0;31m             \u001b[0mself\u001b[0m\u001b[0;34m.\u001b[0m\u001b[0m_update_fun_impl\u001b[0m\u001b[0;34m(\u001b[0m\u001b[0;34m)\u001b[0m\u001b[0;34m\u001b[0m\u001b[0;34m\u001b[0m\u001b[0m\n\u001b[0m\u001b[1;32m    252\u001b[0m             \u001b[0mself\u001b[0m\u001b[0;34m.\u001b[0m\u001b[0mf_updated\u001b[0m \u001b[0;34m=\u001b[0m \u001b[0;32mTrue\u001b[0m\u001b[0;34m\u001b[0m\u001b[0;34m\u001b[0m\u001b[0m\n\u001b[1;32m    253\u001b[0m \u001b[0;34m\u001b[0m\u001b[0m\n",
            "\u001b[0;32m/usr/local/lib/python3.8/dist-packages/scipy/optimize/_differentiable_functions.py\u001b[0m in \u001b[0;36mupdate_fun\u001b[0;34m()\u001b[0m\n\u001b[1;32m    153\u001b[0m \u001b[0;34m\u001b[0m\u001b[0m\n\u001b[1;32m    154\u001b[0m         \u001b[0;32mdef\u001b[0m \u001b[0mupdate_fun\u001b[0m\u001b[0;34m(\u001b[0m\u001b[0;34m)\u001b[0m\u001b[0;34m:\u001b[0m\u001b[0;34m\u001b[0m\u001b[0;34m\u001b[0m\u001b[0m\n\u001b[0;32m--> 155\u001b[0;31m             \u001b[0mself\u001b[0m\u001b[0;34m.\u001b[0m\u001b[0mf\u001b[0m \u001b[0;34m=\u001b[0m \u001b[0mfun_wrapped\u001b[0m\u001b[0;34m(\u001b[0m\u001b[0mself\u001b[0m\u001b[0;34m.\u001b[0m\u001b[0mx\u001b[0m\u001b[0;34m)\u001b[0m\u001b[0;34m\u001b[0m\u001b[0;34m\u001b[0m\u001b[0m\n\u001b[0m\u001b[1;32m    156\u001b[0m \u001b[0;34m\u001b[0m\u001b[0m\n\u001b[1;32m    157\u001b[0m         \u001b[0mself\u001b[0m\u001b[0;34m.\u001b[0m\u001b[0m_update_fun_impl\u001b[0m \u001b[0;34m=\u001b[0m \u001b[0mupdate_fun\u001b[0m\u001b[0;34m\u001b[0m\u001b[0;34m\u001b[0m\u001b[0m\n",
            "\u001b[0;32m/usr/local/lib/python3.8/dist-packages/scipy/optimize/_differentiable_functions.py\u001b[0m in \u001b[0;36mfun_wrapped\u001b[0;34m(x)\u001b[0m\n\u001b[1;32m    135\u001b[0m             \u001b[0;31m# Overwriting results in undefined behaviour because\u001b[0m\u001b[0;34m\u001b[0m\u001b[0;34m\u001b[0m\u001b[0;34m\u001b[0m\u001b[0m\n\u001b[1;32m    136\u001b[0m             \u001b[0;31m# fun(self.x) will change self.x, with the two no longer linked.\u001b[0m\u001b[0;34m\u001b[0m\u001b[0;34m\u001b[0m\u001b[0;34m\u001b[0m\u001b[0m\n\u001b[0;32m--> 137\u001b[0;31m             \u001b[0mfx\u001b[0m \u001b[0;34m=\u001b[0m \u001b[0mfun\u001b[0m\u001b[0;34m(\u001b[0m\u001b[0mnp\u001b[0m\u001b[0;34m.\u001b[0m\u001b[0mcopy\u001b[0m\u001b[0;34m(\u001b[0m\u001b[0mx\u001b[0m\u001b[0;34m)\u001b[0m\u001b[0;34m,\u001b[0m \u001b[0;34m*\u001b[0m\u001b[0margs\u001b[0m\u001b[0;34m)\u001b[0m\u001b[0;34m\u001b[0m\u001b[0;34m\u001b[0m\u001b[0m\n\u001b[0m\u001b[1;32m    138\u001b[0m             \u001b[0;31m# Make sure the function returns a true scalar\u001b[0m\u001b[0;34m\u001b[0m\u001b[0;34m\u001b[0m\u001b[0;34m\u001b[0m\u001b[0m\n\u001b[1;32m    139\u001b[0m             \u001b[0;32mif\u001b[0m \u001b[0;32mnot\u001b[0m \u001b[0mnp\u001b[0m\u001b[0;34m.\u001b[0m\u001b[0misscalar\u001b[0m\u001b[0;34m(\u001b[0m\u001b[0mfx\u001b[0m\u001b[0;34m)\u001b[0m\u001b[0;34m:\u001b[0m\u001b[0;34m\u001b[0m\u001b[0;34m\u001b[0m\u001b[0m\n",
            "\u001b[0;32m/usr/local/lib/python3.8/dist-packages/scipy/optimize/_optimize.py\u001b[0m in \u001b[0;36m__call__\u001b[0;34m(self, x, *args)\u001b[0m\n\u001b[1;32m     74\u001b[0m     \u001b[0;32mdef\u001b[0m \u001b[0m__call__\u001b[0m\u001b[0;34m(\u001b[0m\u001b[0mself\u001b[0m\u001b[0;34m,\u001b[0m \u001b[0mx\u001b[0m\u001b[0;34m,\u001b[0m \u001b[0;34m*\u001b[0m\u001b[0margs\u001b[0m\u001b[0;34m)\u001b[0m\u001b[0;34m:\u001b[0m\u001b[0;34m\u001b[0m\u001b[0;34m\u001b[0m\u001b[0m\n\u001b[1;32m     75\u001b[0m         \u001b[0;34m\"\"\" returns the function value \"\"\"\u001b[0m\u001b[0;34m\u001b[0m\u001b[0;34m\u001b[0m\u001b[0m\n\u001b[0;32m---> 76\u001b[0;31m         \u001b[0mself\u001b[0m\u001b[0;34m.\u001b[0m\u001b[0m_compute_if_needed\u001b[0m\u001b[0;34m(\u001b[0m\u001b[0mx\u001b[0m\u001b[0;34m,\u001b[0m \u001b[0;34m*\u001b[0m\u001b[0margs\u001b[0m\u001b[0;34m)\u001b[0m\u001b[0;34m\u001b[0m\u001b[0;34m\u001b[0m\u001b[0m\n\u001b[0m\u001b[1;32m     77\u001b[0m         \u001b[0;32mreturn\u001b[0m \u001b[0mself\u001b[0m\u001b[0;34m.\u001b[0m\u001b[0m_value\u001b[0m\u001b[0;34m\u001b[0m\u001b[0;34m\u001b[0m\u001b[0m\n\u001b[1;32m     78\u001b[0m \u001b[0;34m\u001b[0m\u001b[0m\n",
            "\u001b[0;32m/usr/local/lib/python3.8/dist-packages/scipy/optimize/_optimize.py\u001b[0m in \u001b[0;36m_compute_if_needed\u001b[0;34m(self, x, *args)\u001b[0m\n\u001b[1;32m     68\u001b[0m         \u001b[0;32mif\u001b[0m \u001b[0;32mnot\u001b[0m \u001b[0mnp\u001b[0m\u001b[0;34m.\u001b[0m\u001b[0mall\u001b[0m\u001b[0;34m(\u001b[0m\u001b[0mx\u001b[0m \u001b[0;34m==\u001b[0m \u001b[0mself\u001b[0m\u001b[0;34m.\u001b[0m\u001b[0mx\u001b[0m\u001b[0;34m)\u001b[0m \u001b[0;32mor\u001b[0m \u001b[0mself\u001b[0m\u001b[0;34m.\u001b[0m\u001b[0m_value\u001b[0m \u001b[0;32mis\u001b[0m \u001b[0;32mNone\u001b[0m \u001b[0;32mor\u001b[0m \u001b[0mself\u001b[0m\u001b[0;34m.\u001b[0m\u001b[0mjac\u001b[0m \u001b[0;32mis\u001b[0m \u001b[0;32mNone\u001b[0m\u001b[0;34m:\u001b[0m\u001b[0;34m\u001b[0m\u001b[0;34m\u001b[0m\u001b[0m\n\u001b[1;32m     69\u001b[0m             \u001b[0mself\u001b[0m\u001b[0;34m.\u001b[0m\u001b[0mx\u001b[0m \u001b[0;34m=\u001b[0m \u001b[0mnp\u001b[0m\u001b[0;34m.\u001b[0m\u001b[0masarray\u001b[0m\u001b[0;34m(\u001b[0m\u001b[0mx\u001b[0m\u001b[0;34m)\u001b[0m\u001b[0;34m.\u001b[0m\u001b[0mcopy\u001b[0m\u001b[0;34m(\u001b[0m\u001b[0;34m)\u001b[0m\u001b[0;34m\u001b[0m\u001b[0;34m\u001b[0m\u001b[0m\n\u001b[0;32m---> 70\u001b[0;31m             \u001b[0mfg\u001b[0m \u001b[0;34m=\u001b[0m \u001b[0mself\u001b[0m\u001b[0;34m.\u001b[0m\u001b[0mfun\u001b[0m\u001b[0;34m(\u001b[0m\u001b[0mx\u001b[0m\u001b[0;34m,\u001b[0m \u001b[0;34m*\u001b[0m\u001b[0margs\u001b[0m\u001b[0;34m)\u001b[0m\u001b[0;34m\u001b[0m\u001b[0;34m\u001b[0m\u001b[0m\n\u001b[0m\u001b[1;32m     71\u001b[0m             \u001b[0mself\u001b[0m\u001b[0;34m.\u001b[0m\u001b[0mjac\u001b[0m \u001b[0;34m=\u001b[0m \u001b[0mfg\u001b[0m\u001b[0;34m[\u001b[0m\u001b[0;36m1\u001b[0m\u001b[0;34m]\u001b[0m\u001b[0;34m\u001b[0m\u001b[0;34m\u001b[0m\u001b[0m\n\u001b[1;32m     72\u001b[0m             \u001b[0mself\u001b[0m\u001b[0;34m.\u001b[0m\u001b[0m_value\u001b[0m \u001b[0;34m=\u001b[0m \u001b[0mfg\u001b[0m\u001b[0;34m[\u001b[0m\u001b[0;36m0\u001b[0m\u001b[0;34m]\u001b[0m\u001b[0;34m\u001b[0m\u001b[0;34m\u001b[0m\u001b[0m\n",
            "\u001b[0;32m/usr/local/lib/python3.8/dist-packages/sklearn/linear_model/_linear_loss.py\u001b[0m in \u001b[0;36mloss_gradient\u001b[0;34m(self, coef, X, y, sample_weight, l2_reg_strength, n_threads, raw_prediction)\u001b[0m\n\u001b[1;32m    272\u001b[0m \u001b[0;34m\u001b[0m\u001b[0m\n\u001b[1;32m    273\u001b[0m         \u001b[0;32mif\u001b[0m \u001b[0mraw_prediction\u001b[0m \u001b[0;32mis\u001b[0m \u001b[0;32mNone\u001b[0m\u001b[0;34m:\u001b[0m\u001b[0;34m\u001b[0m\u001b[0;34m\u001b[0m\u001b[0m\n\u001b[0;32m--> 274\u001b[0;31m             \u001b[0mweights\u001b[0m\u001b[0;34m,\u001b[0m \u001b[0mintercept\u001b[0m\u001b[0;34m,\u001b[0m \u001b[0mraw_prediction\u001b[0m \u001b[0;34m=\u001b[0m \u001b[0mself\u001b[0m\u001b[0;34m.\u001b[0m\u001b[0mweight_intercept_raw\u001b[0m\u001b[0;34m(\u001b[0m\u001b[0mcoef\u001b[0m\u001b[0;34m,\u001b[0m \u001b[0mX\u001b[0m\u001b[0;34m)\u001b[0m\u001b[0;34m\u001b[0m\u001b[0;34m\u001b[0m\u001b[0m\n\u001b[0m\u001b[1;32m    275\u001b[0m         \u001b[0;32melse\u001b[0m\u001b[0;34m:\u001b[0m\u001b[0;34m\u001b[0m\u001b[0;34m\u001b[0m\u001b[0m\n\u001b[1;32m    276\u001b[0m             \u001b[0mweights\u001b[0m\u001b[0;34m,\u001b[0m \u001b[0mintercept\u001b[0m \u001b[0;34m=\u001b[0m \u001b[0mself\u001b[0m\u001b[0;34m.\u001b[0m\u001b[0mweight_intercept\u001b[0m\u001b[0;34m(\u001b[0m\u001b[0mcoef\u001b[0m\u001b[0;34m)\u001b[0m\u001b[0;34m\u001b[0m\u001b[0;34m\u001b[0m\u001b[0m\n",
            "\u001b[0;32m/usr/local/lib/python3.8/dist-packages/sklearn/linear_model/_linear_loss.py\u001b[0m in \u001b[0;36mweight_intercept_raw\u001b[0;34m(self, coef, X)\u001b[0m\n\u001b[1;32m    163\u001b[0m         \u001b[0;32melse\u001b[0m\u001b[0;34m:\u001b[0m\u001b[0;34m\u001b[0m\u001b[0;34m\u001b[0m\u001b[0m\n\u001b[1;32m    164\u001b[0m             \u001b[0;31m# weights has shape (n_classes, n_dof)\u001b[0m\u001b[0;34m\u001b[0m\u001b[0;34m\u001b[0m\u001b[0;34m\u001b[0m\u001b[0m\n\u001b[0;32m--> 165\u001b[0;31m             \u001b[0mraw_prediction\u001b[0m \u001b[0;34m=\u001b[0m \u001b[0mX\u001b[0m \u001b[0;34m@\u001b[0m \u001b[0mweights\u001b[0m\u001b[0;34m.\u001b[0m\u001b[0mT\u001b[0m \u001b[0;34m+\u001b[0m \u001b[0mintercept\u001b[0m  \u001b[0;31m# ndarray, likely C-contiguous\u001b[0m\u001b[0;34m\u001b[0m\u001b[0;34m\u001b[0m\u001b[0m\n\u001b[0m\u001b[1;32m    166\u001b[0m \u001b[0;34m\u001b[0m\u001b[0m\n\u001b[1;32m    167\u001b[0m         \u001b[0;32mreturn\u001b[0m \u001b[0mweights\u001b[0m\u001b[0;34m,\u001b[0m \u001b[0mintercept\u001b[0m\u001b[0;34m,\u001b[0m \u001b[0mraw_prediction\u001b[0m\u001b[0;34m\u001b[0m\u001b[0;34m\u001b[0m\u001b[0m\n",
            "\u001b[0;31mKeyboardInterrupt\u001b[0m: "
          ]
        }
      ]
    },
    {
      "cell_type": "markdown",
      "source": [
        "# Similarity tests"
      ],
      "metadata": {
        "id": "NGtX2ycNQa-H"
      }
    },
    {
      "cell_type": "markdown",
      "source": [
        "https://github.com/SGDE2020/embedding_stability/blob/master/similarity_tests/similarity_tests.py"
      ],
      "metadata": {
        "id": "-eesbQaUQfd4"
      }
    }
  ]
}